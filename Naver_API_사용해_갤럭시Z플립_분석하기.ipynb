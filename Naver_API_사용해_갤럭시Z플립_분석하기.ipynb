{
 "cells": [
  {
   "cell_type": "markdown",
   "id": "3686187f",
   "metadata": {},
   "source": [
    "* **작성자** : 김종원\n",
    "* 작성일지 : 2021.10.28\n",
    "\n",
    "# Naver API\n",
    "\n",
    "\n",
    "## 1. 네이버 API 사용자 등록\n",
    "- 네이버 개발자 센터 \n",
    "- https://developers.naver.com/main/\n",
    "- Application \n",
    "    - 어플리케이션 등록\n",
    "    - 어플리케이션 이름 dais_open_lab\n",
    "    - 사용 API \n",
    "        - 검색\n",
    "        - 데이터랩(검색어트렌드)\n",
    "        - 데이터랩(쇼핑인사이트)\n",
    "    - 환경추가 \n",
    "        - WEB 설정 \n",
    "        - http://localhost\n",
    "    - Clienct ID: \n",
    "    - Clienct Secret: \n",
    "    - https://developers.naver.com/apps/#/myapps/H2_6lcavpVyHW8211rUq/overview \n",
    "    \n",
    "## 2. 네이버 검색 API 사용하기\n",
    "- [네이버 API 개발자 가이드 접속하여 API 사용방법 알기](https://developers.naver.com/docs/serviceapi/search/blog/blog.md#%EB%B8%94%EB%A1%9C%EA%B7%B8)\n",
    "\n",
    "* urllib 관련 설명\n",
    "    - urllib: http 프로토콜에 따라서 서버의 요청/응답을 처리하기 위한 모듈 \n",
    "    - urllib.request: 클라이언트의 요청을 처리하는 모듈 \n",
    "    - urllib.parse: url 주소에 대한 분석 \n",
    "    \n",
    "## 3. 갤럭시 Z 플립 3 구매한다면 얼마에 구매가능한지 분석하기\\\n",
    "- 네이버 API 사용.\n",
    "---"
   ]
  },
  {
   "cell_type": "code",
   "execution_count": null,
   "id": "cd622b19",
   "metadata": {},
   "outputs": [],
   "source": [
    "HSUiWiCFSEgaskdkdddD\n",
    "2ZZyeZPMPC"
   ]
  },
  {
   "cell_type": "markdown",
   "id": "af4704d9",
   "metadata": {},
   "source": [
    "### 1. 검색(네이버 블로그)"
   ]
  },
  {
   "cell_type": "code",
   "execution_count": 2,
   "id": "5c3733e3",
   "metadata": {},
   "outputs": [
    {
     "name": "stdout",
     "output_type": "stream",
     "text": [
      "{\n",
      "\"lastBuildDate\": \"Fri, 29 Oct 2021 14:31:07 +0900\",\n",
      "\"total\": 40106494,\n",
      "\"start\": 1,\n",
      "\"display\": 10,\n",
      "\"items\": [\n",
      "{\n",
      "\"title\": \"<b>서울</b> 가성비 호텔 한강뷰 더스테이트 선유 조식, 루프탑 와인바\",\n",
      "\"link\": \"https:\\/\\/blog.naver.com\\/bahna2?Redirect=Log&logNo=222549820513\",\n",
      "\"description\": \"<b>서울</b> 가성비 호텔 한강뷰 더스테이트 선유 조식과 루프탑 무제한 와인바 <b>서울</b>에 정말 많은 호텔이 있고 알고 보면 참 괜찮은 가성비 호텔이 있는데요 선유도 인근에 한강을 바라보고 있는 더스테이트 선유... \",\n",
      "\"bloggername\": \"Travel portfolio\",\n",
      "\"bloggerlink\": \"https://blog.naver.com/bahna2\",\n",
      "\"postdate\": \"20211027\"\n",
      "\n",
      "},\n",
      "{\n",
      "\"title\": \"분위기 좋은 <b>서울</b> 한정식 맛집\",\n",
      "\"link\": \"https:\\/\\/blog.naver.com\\/bada3347?Redirect=Log&logNo=222531386802\",\n",
      "\"description\": \"지난주에 가족과 식사 약속이 생겨서 <b>서울</b> 한정식 맛집을 찾아봤어요. 여러 식당 가운데서도 평이 괜찮은 곳을 찾아 들러봤는데 음식 퀄리티가 무척 좋고 분위기도 편안해서 딱이더라고요. <b>서울</b> 서초구... \",\n",
      "\"bloggername\": \"바다의 맛있는 사진여행\",\n",
      "\"bloggerlink\": \"https://blog.naver.com/bada3347\",\n",
      "\"postdate\": \"20211009\"\n",
      "\n",
      "},\n",
      "{\n",
      "\"title\": \"국내 배당주 순위 정보 <b>서울</b>가스 주가 배당금\",\n",
      "\"link\": \"https:\\/\\/blog.naver.com\\/n_goos?Redirect=Log&logNo=222540600614\",\n",
      "\"description\": \"국내 배당주 순위 정보 <b>서울</b>가스 주가 배당금 &quot;배당주&quot; 기업이 일정한 기간동안 기업이 열심히 일하고... 또, 국내 배당주 순위권에 높은 위치에 있는 제가 관심있게 보고 있는 <b>서울</b>가스 주가 배당금에 대해서도... \",\n",
      "\"bloggername\": \"실행여행가 조PD\",\n",
      "\"bloggerlink\": \"https://blog.naver.com/n_goos\",\n",
      "\"postdate\": \"20211018\"\n",
      "\n",
      "},\n",
      "{\n",
      "\"title\": \"포시즌스 호텔 <b>서울</b> 호캉스 프로모션\",\n",
      "\"link\": \"https:\\/\\/blog.naver.com\\/charla1005?Redirect=Log&logNo=222551111970\",\n",
      "\"description\": \"포시즌스 호텔 <b>서울</b> 호캉스 프로모션 셀프 생일축하하러 다녀왔던 (히히) <b>서울</b>에서 보내는 최고의 호캉스, #포시즌스호텔<b>서울</b> 이 호텔의 매력적인 프로모션을 소개해드릴께요 ! 에바종을 통해 예약을 하는... \",\n",
      "\"bloggername\": \"샬라의 여행 All of my journey ♪\",\n",
      "\"bloggerlink\": \"https://blog.naver.com/charla1005\",\n",
      "\"postdate\": \"20211028\"\n",
      "\n",
      "},\n",
      "{\n",
      "\"title\": \"<b>서울</b>가볼만한곳 : 국립항공박물관 기내훈련체험 예약 후기\",\n",
      "\"link\": \"https:\\/\\/blog.naver.com\\/wkwmd81?Redirect=Log&logNo=222542266511\",\n",
      "\"description\": \"<b>서울</b>가볼만한곳 국립항공박물관 기내훈련체험 예약 후기 국제선 출발... 진짜 글씨 본지 오래된것... 다녀왔어요 <b>서울</b>가볼만한곳 김포공항 바로 옆에 있어서 가깝고 전시관람은 무료! 게다가 블랙이글탑승체험... \",\n",
      "\"bloggername\": \"아이와 함께 해외여행 고고씽\",\n",
      "\"bloggerlink\": \"https://blog.naver.com/wkwmd81\",\n",
      "\"postdate\": \"20211020\"\n",
      "\n",
      "},\n",
      "{\n",
      "\"title\": \"<b>서울</b>에 사는 청년이라면! 교통비 10만 원, 이사 비용 40만 원... \",\n",
      "\"link\": \"https:\\/\\/blog.naver.com\\/haechiseoul?Redirect=Log&logNo=222552041092\",\n",
      "\"description\": \"청년이 바라는 일상생활 지원 3대 시리즈 중 첫 번째 시리즈 정책 '청년패스(PASS)'에서는 <b>서울</b>... 지난 포스팅으로 알려드린 건강관리를 지원하는 '온<b>서울</b> 건강온' 도 이 중 하나인데요. ▼온<b>서울</b> 건강온 자세한... \",\n",
      "\"bloggername\": \"서울특별시 공식블로그\",\n",
      "\"bloggerlink\": \"https://blog.naver.com/haechiseoul\",\n",
      "\"postdate\": \"20211029\"\n",
      "\n",
      "},\n",
      "{\n",
      "\"title\": \"그랜드 하얏트 <b>서울</b> : 한강뷰 &amp; 룸서비스\",\n",
      "\"link\": \"https:\\/\\/blog.naver.com\\/blueblublue?Redirect=Log&logNo=222539996962\",\n",
      "\"description\": \"역대 방한 미국 대통령들이 모두 묵었던 그랜드 하얏트 <b>서울</b>. 룸 레이트도 괜찮고 여름 야외수영장과... 그랜드 하얏트 <b>서울</b> - <b>서울</b> 용산구에 위치한 호텔 - 총 객실 수 : 615실( 53실 스위트룸) - 체크인 3PM... \",\n",
      "\"bloggername\": \"시의성 & 선택\",\n",
      "\"bloggerlink\": \"https://blog.naver.com/blueblublue\",\n",
      "\"postdate\": \"20211017\"\n",
      "\n",
      "},\n",
      "{\n",
      "\"title\": \"<b>서울</b>아파트청약 첫걸음은 모집공고부터!\",\n",
      "\"link\": \"https:\\/\\/blog.naver.com\\/together_sh?Redirect=Log&logNo=222535574133\",\n",
      "\"description\": \"<b>서울</b>주택도시공사 홈페이지에 올라오는 수많은 <b>서울</b>아파트청약 입주자 모집공고 게시글들! <b>서울</b>아파트청약 신청해볼까 싶어서 모집공고를 다운로드해보았는데 하얀 건 종이, 검은 건 글자요… 나를 겁먹게... \",\n",
      "\"bloggername\": \"서울주택도시공사\",\n",
      "\"bloggerlink\": \"https://blog.naver.com/together_sh\",\n",
      "\"postdate\": \"20211013\"\n",
      "\n",
      "},\n",
      "{\n",
      "\"title\": \"광화문 한정식 : 암소<b>서울</b> 디너 종가 코스\",\n",
      "\"link\": \"https:\\/\\/blog.naver.com\\/mhj5333?Redirect=Log&logNo=222549306289\",\n",
      "\"description\": \"광화문 한정식 암소<b>서울</b> 오늘의 맛집은 광화문 한정식으로 유명한 '암소<b>서울</b>(I'm so seoul)' 저번에 한번 방문했을 때 너무너무 맛있게 먹었던 암소<b>서울</b>! 그 때에 비해 살짝 메뉴가 리뉴얼된 것 같아 재방문했다... \",\n",
      "\"bloggername\": \"What you Want-♪\",\n",
      "\"bloggerlink\": \"https://blog.naver.com/mhj5333\",\n",
      "\"postdate\": \"20211026\"\n",
      "\n",
      "},\n",
      "{\n",
      "\"title\": \"남산 N<b>서울</b>타워 전망대를 다녀왔다\",\n",
      "\"link\": \"https:\\/\\/blog.naver.com\\/caffeine5434?Redirect=Log&logNo=222548254573\",\n",
      "\"description\": \"얼마전에 롯데온에서 N<b>서울</b>타워 전망대 이용권을 단돈 990원에 팔았다 완전 초특가여서 눈에 보이자 마자 바로 구매했다 여태 <b>서울</b> 살면서도 남산 전망대는 한 번도 올라가본 적이 없는데 이렇게 저렴하게 가게... \",\n",
      "\"bloggername\": \"caffeine5434님의 일상공간\",\n",
      "\"bloggerlink\": \"https://blog.naver.com/caffeine5434\",\n",
      "\"postdate\": \"20211025\"\n",
      "\n",
      "}\n",
      "]\n",
      "}\n",
      "\n"
     ]
    }
   ],
   "source": [
    "# 네이버 검색 API예제는 블로그를 비롯 전문자료까지 호출방법이 동일하므로 blog검색만 대표로 예제를 올렸습니다.\n",
    "# 네이버 검색 Open API 예제 - 블로그 검색\n",
    "import os\n",
    "import sys\n",
    "import urllib.request\n",
    "\n",
    "# 등록한 API키 입력하기\n",
    "client_id = \"HSUiWiCFSEgaskdkdddD\"\n",
    "client_secret = \"2ZZyeZPMPC\"\n",
    "\n",
    "# urllib.parse.quote\n",
    "# url에 한글을 입력해서 검색하면 utf8 형식이 아니라서 깨진다.\n",
    "# 그렇기에 형식을 맞춰주기 위해 해당 함수를 사용한다.(즉 비영어권에서 사용하는 언어를 utf-8형식으로 맞춰주기 위한 함수)\n",
    "encText = urllib.parse.quote(\"서울\")\n",
    "\n",
    "url = \"https://openapi.naver.com/v1/search/blog?query=\" + encText # json 결과\n",
    "# url = \"https://openapi.naver.com/v1/search/blog.xml?query=\" + encText # xml 결과\n",
    "request = urllib.request.Request(url)\n",
    "request.add_header(\"X-Naver-Client-Id\",client_id)\n",
    "request.add_header(\"X-Naver-Client-Secret\",client_secret)\n",
    "# 크롤링할 웹페이지 정보를 가져온다.\n",
    "response = urllib.request.urlopen(request)\n",
    "\n",
    "# getcode() 메서드로 HTTP 응답 상태 코드(200,404,504 등)를 가져올 수 있다.\n",
    "# getcode() 정보가 200이면 성공\n",
    "rescode = response.getcode()\n",
    "\n",
    "if(rescode==200):\n",
    "    # 수신된 HTML 정보를 read 한다.\n",
    "    response_body = response.read()\n",
    "    # 읽은 HTML 정보를 출력하면 바이너리 파일로 사람이 읽을수 없어서\n",
    "    # decode('utf-8') 형식으로 변환해준다.\n",
    "    print(response_body.decode('utf-8'))\n",
    "else:\n",
    "    print(\"Error Code:\" + rescode)"
   ]
  },
  {
   "cell_type": "code",
   "execution_count": 4,
   "id": "6f43092f",
   "metadata": {},
   "outputs": [
    {
     "name": "stdout",
     "output_type": "stream",
     "text": [
      "{\n",
      "\"lastBuildDate\": \"Fri, 29 Oct 2021 14:31:07 +0900\",\n",
      "\"total\": 40106494,\n",
      "\"start\": 1,\n",
      "\"display\": 10,\n",
      "\"items\": [\n",
      "{\n",
      "\"title\": \"<b>서울</b> 가성비 호텔 한강뷰 더스테이트 선유 조식, 루프탑 와인바\",\n",
      "\"link\": \"https:\\/\\/blog.naver.com\\/bahna2?Redirect=Log&logNo=222549820513\",\n",
      "\"description\": \"<b>서울</b> 가성비 호텔 한강뷰 더스테이트 선유 조식과 루프탑 무제한 와인바 <b>서울</b>에 정말 많은 호텔이 있고 알고 보면 참 괜찮은 가성비 호텔이 있는데요 선유도 인근에 한강을 바라보고 있는 더스테이트 선유... \",\n",
      "\"bloggername\": \"Travel portfolio\",\n",
      "\"bloggerlink\": \"https://blog.naver.com/bahna2\",\n",
      "\"postdate\": \"20211027\"\n",
      "\n",
      "},\n",
      "{\n",
      "\"title\": \"분위기 좋은 <b>서울</b> 한정식 맛집\",\n",
      "\"link\": \"https:\\/\\/blog.naver.com\\/bada3347?Redirect=Log&logNo=222531386802\",\n",
      "\"description\": \"지난주에 가족과 식사 약속이 생겨서 <b>서울</b> 한정식 맛집을 찾아봤어요. 여러 식당 가운데서도 평이 괜찮은 곳을 찾아 들러봤는데 음식 퀄리티가 무척 좋고 분위기도 편안해서 딱이더라고요. <b>서울</b> 서초구... \",\n",
      "\"bloggername\": \"바다의 맛있는 사진여행\",\n",
      "\"bloggerlink\": \"https://blog.naver.com/bada3347\",\n",
      "\"postdate\": \"20211009\"\n",
      "\n",
      "},\n",
      "{\n",
      "\"title\": \"국내 배당주 순위 정보 <b>서울</b>가스 주가 배당금\",\n",
      "\"link\": \"https:\\/\\/blog.naver.com\\/n_goos?Redirect=Log&logNo=222540600614\",\n",
      "\"description\": \"국내 배당주 순위 정보 <b>서울</b>가스 주가 배당금 &quot;배당주&quot; 기업이 일정한 기간동안 기업이 열심히 일하고... 또, 국내 배당주 순위권에 높은 위치에 있는 제가 관심있게 보고 있는 <b>서울</b>가스 주가 배당금에 대해서도... \",\n",
      "\"bloggername\": \"실행여행가 조PD\",\n",
      "\"bloggerlink\": \"https://blog.naver.com/n_goos\",\n",
      "\"postdate\": \"20211018\"\n",
      "\n",
      "},\n",
      "{\n",
      "\"title\": \"포시즌스 호텔 <b>서울</b> 호캉스 프로모션\",\n",
      "\"link\": \"https:\\/\\/blog.naver.com\\/charla1005?Redirect=Log&logNo=222551111970\",\n",
      "\"description\": \"포시즌스 호텔 <b>서울</b> 호캉스 프로모션 셀프 생일축하하러 다녀왔던 (히히) <b>서울</b>에서 보내는 최고의 호캉스, #포시즌스호텔<b>서울</b> 이 호텔의 매력적인 프로모션을 소개해드릴께요 ! 에바종을 통해 예약을 하는... \",\n",
      "\"bloggername\": \"샬라의 여행 All of my journey ♪\",\n",
      "\"bloggerlink\": \"https://blog.naver.com/charla1005\",\n",
      "\"postdate\": \"20211028\"\n",
      "\n",
      "},\n",
      "{\n",
      "\"title\": \"<b>서울</b>가볼만한곳 : 국립항공박물관 기내훈련체험 예약 후기\",\n",
      "\"link\": \"https:\\/\\/blog.naver.com\\/wkwmd81?Redirect=Log&logNo=222542266511\",\n",
      "\"description\": \"<b>서울</b>가볼만한곳 국립항공박물관 기내훈련체험 예약 후기 국제선 출발... 진짜 글씨 본지 오래된것... 다녀왔어요 <b>서울</b>가볼만한곳 김포공항 바로 옆에 있어서 가깝고 전시관람은 무료! 게다가 블랙이글탑승체험... \",\n",
      "\"bloggername\": \"아이와 함께 해외여행 고고씽\",\n",
      "\"bloggerlink\": \"https://blog.naver.com/wkwmd81\",\n",
      "\"postdate\": \"20211020\"\n",
      "\n",
      "},\n",
      "{\n",
      "\"title\": \"<b>서울</b>에 사는 청년이라면! 교통비 10만 원, 이사 비용 40만 원... \",\n",
      "\"link\": \"https:\\/\\/blog.naver.com\\/haechiseoul?Redirect=Log&logNo=222552041092\",\n",
      "\"description\": \"청년이 바라는 일상생활 지원 3대 시리즈 중 첫 번째 시리즈 정책 '청년패스(PASS)'에서는 <b>서울</b>... 지난 포스팅으로 알려드린 건강관리를 지원하는 '온<b>서울</b> 건강온' 도 이 중 하나인데요. ▼온<b>서울</b> 건강온 자세한... \",\n",
      "\"bloggername\": \"서울특별시 공식블로그\",\n",
      "\"bloggerlink\": \"https://blog.naver.com/haechiseoul\",\n",
      "\"postdate\": \"20211029\"\n",
      "\n",
      "},\n",
      "{\n",
      "\"title\": \"그랜드 하얏트 <b>서울</b> : 한강뷰 &amp; 룸서비스\",\n",
      "\"link\": \"https:\\/\\/blog.naver.com\\/blueblublue?Redirect=Log&logNo=222539996962\",\n",
      "\"description\": \"역대 방한 미국 대통령들이 모두 묵었던 그랜드 하얏트 <b>서울</b>. 룸 레이트도 괜찮고 여름 야외수영장과... 그랜드 하얏트 <b>서울</b> - <b>서울</b> 용산구에 위치한 호텔 - 총 객실 수 : 615실( 53실 스위트룸) - 체크인 3PM... \",\n",
      "\"bloggername\": \"시의성 & 선택\",\n",
      "\"bloggerlink\": \"https://blog.naver.com/blueblublue\",\n",
      "\"postdate\": \"20211017\"\n",
      "\n",
      "},\n",
      "{\n",
      "\"title\": \"<b>서울</b>아파트청약 첫걸음은 모집공고부터!\",\n",
      "\"link\": \"https:\\/\\/blog.naver.com\\/together_sh?Redirect=Log&logNo=222535574133\",\n",
      "\"description\": \"<b>서울</b>주택도시공사 홈페이지에 올라오는 수많은 <b>서울</b>아파트청약 입주자 모집공고 게시글들! <b>서울</b>아파트청약 신청해볼까 싶어서 모집공고를 다운로드해보았는데 하얀 건 종이, 검은 건 글자요… 나를 겁먹게... \",\n",
      "\"bloggername\": \"서울주택도시공사\",\n",
      "\"bloggerlink\": \"https://blog.naver.com/together_sh\",\n",
      "\"postdate\": \"20211013\"\n",
      "\n",
      "},\n",
      "{\n",
      "\"title\": \"광화문 한정식 : 암소<b>서울</b> 디너 종가 코스\",\n",
      "\"link\": \"https:\\/\\/blog.naver.com\\/mhj5333?Redirect=Log&logNo=222549306289\",\n",
      "\"description\": \"광화문 한정식 암소<b>서울</b> 오늘의 맛집은 광화문 한정식으로 유명한 '암소<b>서울</b>(I'm so seoul)' 저번에 한번 방문했을 때 너무너무 맛있게 먹었던 암소<b>서울</b>! 그 때에 비해 살짝 메뉴가 리뉴얼된 것 같아 재방문했다... \",\n",
      "\"bloggername\": \"What you Want-♪\",\n",
      "\"bloggerlink\": \"https://blog.naver.com/mhj5333\",\n",
      "\"postdate\": \"20211026\"\n",
      "\n",
      "},\n",
      "{\n",
      "\"title\": \"남산 N<b>서울</b>타워 전망대를 다녀왔다\",\n",
      "\"link\": \"https:\\/\\/blog.naver.com\\/caffeine5434?Redirect=Log&logNo=222548254573\",\n",
      "\"description\": \"얼마전에 롯데온에서 N<b>서울</b>타워 전망대 이용권을 단돈 990원에 팔았다 완전 초특가여서 눈에 보이자 마자 바로 구매했다 여태 <b>서울</b> 살면서도 남산 전망대는 한 번도 올라가본 적이 없는데 이렇게 저렴하게 가게... \",\n",
      "\"bloggername\": \"caffeine5434님의 일상공간\",\n",
      "\"bloggerlink\": \"https://blog.naver.com/caffeine5434\",\n",
      "\"postdate\": \"20211025\"\n",
      "\n",
      "}\n",
      "]\n",
      "}\n",
      "\n"
     ]
    }
   ],
   "source": [
    "# 글자로 읽을 경우, decode utf-8 설정 \n",
    "# print(response_body)\n",
    "print(response_body.decode(\"utf-8\"))"
   ]
  },
  {
   "cell_type": "markdown",
   "id": "9f3ec6f3",
   "metadata": {},
   "source": [
    "### 검색 : 책(book)\n",
    "이전 url\n",
    "* url -> https://openapi.naver.com/v1/search/ `blog` ?query= + encText # json 결과\n",
    "\n",
    "현재 url\n",
    "* url -> https://openapi.naver.com/v1/search/ `book` ?query= + encText # json 결과"
   ]
  },
  {
   "cell_type": "code",
   "execution_count": 5,
   "id": "cb5cd211",
   "metadata": {},
   "outputs": [
    {
     "name": "stdout",
     "output_type": "stream",
     "text": [
      "{\n",
      "\"lastBuildDate\": \"Fri, 29 Oct 2021 14:32:16 +0900\",\n",
      "\"total\": 17288,\n",
      "\"start\": 1,\n",
      "\"display\": 10,\n",
      "\"items\": [\n",
      "{\n",
      "\"title\": \"ADsP <b>데이터 분석</b> 준전문가 (2021,무료 동영상제공 + 최신기출 + 예상문제 710,기출문제 21-27회 포함)\",\n",
      "\"link\": \"http://book.naver.com/bookdb/book_detail.php?bid=17764954\",\n",
      "\"image\": \"https://bookthumb-phinf.pstatic.net/cover/177/649/17764954.jpg?type=m1&udate=20211025\",\n",
      "\"author\": \"윤종식\",\n",
      "\"price\": \"28000\",\n",
      "\"discount\": \"25200\",\n",
      "\"publisher\": \"<b>데이터</b>에듀\",\n",
      "\"pubdate\": \"20210115\",\n",
      "\"isbn\": \"1196943621 9791196943622\",\n",
      "\"description\": \"본 도서는 한국데이터베이스진흥원에서 실시하고 있는 『<b>데이터 분석</b> 전문가(ADP)』 자격증과 『<b>데이터 분석</b> 준전문가(ADSP)』 자격증을 준비하는 수험생들을 위한 도서이다. 2014년 4월 이후 시행된 자격증 시험의 기출문제를 분석하여 문제의 의도와 유형을 파악하여 중요한 내용을 표와 그림을 위주로 1과목... \"\n",
      "\n",
      "},\n",
      "{\n",
      "\"title\": \"모두의 <b>데이터 분석</b> with 파이썬 (실생활 예제로 시작하는 <b>데이터 분석</b> 첫걸음)\",\n",
      "\"link\": \"http://book.naver.com/bookdb/book_detail.php?bid=14820571\",\n",
      "\"image\": \"https://bookthumb-phinf.pstatic.net/cover/148/205/14820571.jpg?type=m1&udate=20210509\",\n",
      "\"author\": \"송석리|이현아\",\n",
      "\"price\": \"18000\",\n",
      "\"discount\": \"16200\",\n",
      "\"publisher\": \"길벗\",\n",
      "\"pubdate\": \"20190425\",\n",
      "\"isbn\": \"1160507813 9791160507812\",\n",
      "\"description\": \"초보자와 비전공자를 위한 가장 쉬운 <b>데이터 분석</b> 입문서!\\n초보자와 비전공자를 위한 가장 쉬운 <b>데이터 분석</b> 입문서!\\n“서울이 가장 더웠던 날은 언제였을까?”\\n“우리 동네에는 남성과 여성 중 어떤 성별이 더 많이 살고 있을까?”\\n”출근 시간대 사람들이 가장 많이 타고 내리는 역은 어디일까?“\\n데이터... \"\n",
      "\n",
      "},\n",
      "{\n",
      "\"title\": \"2022 이기적 빅<b>데이터분석</b>기사 필기 기본서 (최신 기출<b>분석</b> 반영 + 동영상 강의 무료 제공 + CBT 온라인 모의고사)\",\n",
      "\"link\": \"http://book.naver.com/bookdb/book_detail.php?bid=20885185\",\n",
      "\"image\": \"https://bookthumb-phinf.pstatic.net/cover/208/851/20885185.jpg?type=m1&udate=20210907\",\n",
      "\"author\": \"나홍석\",\n",
      "\"price\": \"30000\",\n",
      "\"discount\": \"27000\",\n",
      "\"publisher\": \"영진.com(영진닷컴)\",\n",
      "\"pubdate\": \"20210903\",\n",
      "\"isbn\": \"8931464789 9788931464788\",\n",
      "\"description\": \"본 도서는 최신 출제기준을 적용한 도서로, 빅<b>데이터분석</b>기사 필기 시험의 출제 경향을 철저히 분석하여 수험생들이 혼자서도 학습할 수 있도록 한 완벽 대비서입니다. 시행처에서 공개한 출제기준을 바탕으로 집필되었으며, 꼼꼼한 이론과 예상문제를 통해 시험 유형을 익힐 수 있고, 모의고사를 공부하며... \"\n",
      "\n",
      "},\n",
      "{\n",
      "\"title\": \"파이썬 증권 <b>데이터 분석</b> (파이썬 입문, 웹 스크레이핑, 트레이딩 전략, 자동 매매)\",\n",
      "\"link\": \"http://book.naver.com/bookdb/book_detail.php?bid=16381920\",\n",
      "\"image\": \"https://bookthumb-phinf.pstatic.net/cover/163/819/16381920.jpg?type=m1&udate=20201117\",\n",
      "\"author\": \"김황후\",\n",
      "\"price\": \"32000\",\n",
      "\"discount\": \"28800\",\n",
      "\"publisher\": \"한빛미디어\",\n",
      "\"pubdate\": \"20200701\",\n",
      "\"isbn\": \"1162243201 9791162243206\",\n",
      "\"description\": \"투자 기법과 프로그래밍 기술로 &#x0D;자신만의 퀀트 투자 시스템을 완성하라&#x0D;&#x0D;『파이썬 증권 <b>데이터 분석</b>』은 웹 스크레이핑으로 증권 데이터를 주기적으로 자동 수집, 분석, 자동 매매, 예측하는 전 과정을 파이썬으로 직접 구현한다. 그 과정에서 금융 데이터 처리 기본 라이브러리(팬더스)부터 주가... \"\n",
      "\n",
      "},\n",
      "{\n",
      "\"title\": \"수제비 빅<b>데이터분석</b>기사 필기 1권+2권 합본 세트 (2022,전2권,2021년 제2회 기출 복원문제 <b>분석</b> 수록)\",\n",
      "\"link\": \"http://book.naver.com/bookdb/book_detail.php?bid=20834147\",\n",
      "\"image\": \"https://bookthumb-phinf.pstatic.net/cover/208/341/20834147.jpg?type=m1&udate=20210907\",\n",
      "\"author\": \"NCS 정보처리기술사 연구회\",\n",
      "\"price\": \"32000\",\n",
      "\"discount\": \"28800\",\n",
      "\"publisher\": \"건기원\",\n",
      "\"pubdate\": \"20210820\",\n",
      "\"isbn\": \"1157676111 9791157676118\",\n",
      "\"description\": \"[이 책의 특징]- 한국<b>데이터</b>산업진흥원의 출제 기준 완벽 <b>분석</b> 및 적용- 수제비는 합격만을 위한 다양한 학습 콘텐츠 제공 첫째, 비전공자를 위한 최고의 비법서!     두음 쌤, 잠깐! 알고 가기, 학습 POINT 등 다양한 장치 마련둘째, 최강 커뮤니티를 통한 실시간 피드백!     예상 족보, 데일리 문제... \"\n",
      "\n",
      "},\n",
      "{\n",
      "\"title\": \"파이썬 머신러닝 판다스 <b>데이터 분석</b>\",\n",
      "\"link\": \"http://book.naver.com/bookdb/book_detail.php?bid=15028524\",\n",
      "\"image\": \"https://bookthumb-phinf.pstatic.net/cover/150/285/15028524.jpg?type=m1&udate=20210317\",\n",
      "\"author\": \"오승환\",\n",
      "\"price\": \"25000\",\n",
      "\"discount\": \"22500\",\n",
      "\"publisher\": \"정보문화사\",\n",
      "\"pubdate\": \"20190615\",\n",
      "\"isbn\": \"8956748330 9788956748337\",\n",
      "\"description\": \"데이터 과학자가 되기 위한 첫걸음!파이썬 초급자나 중급자가 <b>데이터 분석</b>과 머신러닝을 배우고자 마음먹었다면 이 책을 선택해야 한다. 필수 라이브러리를 소개하고 설치부터 예제 코드를 따라 하면서 자연스럽게 익숙해지도록 안내하고 있기 때문이다. 어려울 것 같은 수학과 통계학적 이론은 가능한 한... \"\n",
      "\n",
      "},\n",
      "{\n",
      "\"title\": \"데이터 과학을 위한 통계 : <b>데이터 분석</b>에서 머신러닝까지 파이썬과 R로 살펴보는 50가지 핵심 개념 (2판)\",\n",
      "\"link\": \"http://book.naver.com/bookdb/book_detail.php?bid=19068565\",\n",
      "\"image\": \"https://bookthumb-phinf.pstatic.net/cover/190/685/19068565.jpg?type=m1&udate=20210501\",\n",
      "\"author\": \"피터 브루스\",\n",
      "\"price\": \"34000\",\n",
      "\"discount\": \"30600\",\n",
      "\"publisher\": \"한빛미디어\",\n",
      "\"pubdate\": \"20210507\",\n",
      "\"isbn\": \"1162244186 9791162244180\",\n",
      "\"description\": \"파이썬과 R로 필요한 만큼만 배우는 실용주의 통계학통계 기법은 <b>데이터</b> 과학의 핵심이지만, <b>데이터</b> 과학자가 고전 통계를 낱낱이 알아야 하는 것은 아니다. 이 책은 <b>데이터</b> 과학의 관점에서 통계 핵심 개념과 기법을 필요한 것만 골라 소개한다. 50가지 개념을 차근차근 정리하고 코드를 실행해보면, 필수 통계... \"\n",
      "\n",
      "},\n",
      "{\n",
      "\"title\": \"2021 빅<b>데이터분석</b>기사 실기\",\n",
      "\"link\": \"http://book.naver.com/bookdb/book_detail.php?bid=20953662\",\n",
      "\"image\": \"https://bookthumb-phinf.pstatic.net/cover/209/536/20953662.jpg?type=m1&udate=20210929\",\n",
      "\"author\": \"김원표\",\n",
      "\"price\": \"38000\",\n",
      "\"discount\": \"34200\",\n",
      "\"publisher\": \"와이즈인컴퍼니\",\n",
      "\"pubdate\": \"20210916\",\n",
      "\"isbn\": \"1189507463 9791189507466\",\n",
      "\"description\": \"본 도서는 한국데이터산업진흥원에서 실시하는 빅<b>데이터분석</b>기사 국가기술자격 실기시험 대비 도서입니다. 본 교재는 PYTHON을 활용하여 쉽고 빠른 자격증 취득으로 이어질 수 있도록 도움을 줄 것입니다.PYTHON과 데이터 다루기, 데이터탐색과 데이터정제, 머신러닝 프로세스, 머신러닝 핵심 알고리즘 총... \"\n",
      "\n",
      "},\n",
      "{\n",
      "\"title\": \"ADP 필기 <b>데이터 분석</b> 전문가 : 올패키지 (동영상 핵심정리 + 최신기출 + 예상문제 830) (400문제 모의고사 및 기출문제)\",\n",
      "\"link\": \"http://book.naver.com/bookdb/book_detail.php?bid=16268203\",\n",
      "\"image\": \"https://bookthumb-phinf.pstatic.net/cover/162/682/16268203.jpg?type=m1&udate=20210814\",\n",
      "\"author\": \"윤종식\",\n",
      "\"price\": \"48000\",\n",
      "\"discount\": \"43200\",\n",
      "\"publisher\": \"주식회사<b>데이터</b>에듀\",\n",
      "\"pubdate\": \"20200221\",\n",
      "\"isbn\": \"1196943605 9791196943608\",\n",
      "\"description\": \"본 도서는 한국데이터베이스진흥원에서 실시하고 있는 『<b>데이터 분석</b> 전문가(ADP)』 자격증과 『<b>데이터 분석</b> 준전문가(ADSP)』 자격증을 준비하는 수험생들을 위한 도서이다. 2014년 4월 이후 시행된 자격증 시험의 기출문제를 분석하여 문제의 의도와 유형을 파악하여 중요한 내용을 표와 그림을 위주로 1과목... \"\n",
      "\n",
      "},\n",
      "{\n",
      "\"title\": \"Do it! 쉽게 배우는 R <b>데이터 분석</b> (<b>데이터 분석</b> 프로젝트 전 과정 수록!)\",\n",
      "\"link\": \"http://book.naver.com/bookdb/book_detail.php?bid=12256508\",\n",
      "\"image\": \"https://bookthumb-phinf.pstatic.net/cover/122/565/12256508.jpg?type=m1&udate=20210626\",\n",
      "\"author\": \"김영우\",\n",
      "\"price\": \"20000\",\n",
      "\"discount\": \"18000\",\n",
      "\"publisher\": \"이지스퍼블리싱\",\n",
      "\"pubdate\": \"20170720\",\n",
      "\"isbn\": \"1187370940 9791187370949\",\n",
      "\"description\": \"<b>데이터 분석</b> 프로젝트 전 과정 수록!\\n통계, 프로그래밍을 1도 몰라도 데이터를 혼자서 다룰 수 있다! \\n<b>데이터 분석</b> 프로젝트 전 과정 수록!\\n<b>데이터 분석</b>을 처음 시작한 초보자도 어깨춤을 추며 데이터를 혼자 다룰 수 있게 한다는 강의가 책으로 출간되었다. 통계, 프로그래밍, <b>데이터 분석</b>을 전혀 몰라도 「Do it!... \"\n",
      "\n",
      "}\n",
      "]\n",
      "}\n",
      "\n"
     ]
    }
   ],
   "source": [
    "# 네이버 검색 API예제는 블로그를 비롯 전문자료까지 호출방법이 동일하므로 blog검색만 대표로 예제를 올렸습니다.\n",
    "# 네이버 검색 Open API 예제 - 블로그 검색\n",
    "import os\n",
    "import sys\n",
    "import urllib.request\n",
    "\n",
    "client_id = \"aabEVn2B_yg5aaXEnjw5\"\n",
    "client_secret = \"Scn2cL4Z0F\"\n",
    "\n",
    "# urllib.parse.quote\n",
    "# url에 한글을 입력해서 검색하면 utf8 형식이 아니라서 깨진다.\n",
    "# 그렇기에 형식을 맞춰주기 위해 해당 함수를 사용한다.(즉 비영어권에서 사용하는 언어를 utf-8형식으로 맞춰주기 위한 함수)\n",
    "encText = urllib.parse.quote(\"데이터분석\")\n",
    "\n",
    "url = \"https://openapi.naver.com/v1/search/book?query=\" + encText # json 결과\n",
    "# url = \"https://openapi.naver.com/v1/search/blog.xml?query=\" + encText # xml 결과\n",
    "request = urllib.request.Request(url)\n",
    "request.add_header(\"X-Naver-Client-Id\",client_id)\n",
    "request.add_header(\"X-Naver-Client-Secret\",client_secret)\n",
    "# 크롤링할 웹페이지 정보를 가져온다.\n",
    "response = urllib.request.urlopen(request)\n",
    "\n",
    "# getcode() 메서드로 HTTP 응답 상태 코드(200,404,504 등)를 가져올 수 있다.\n",
    "# getcode() 정보가 200이면 성공\n",
    "rescode = response.getcode()\n",
    "\n",
    "if(rescode==200):\n",
    "    # 수신된 HTML 정보를 read 한다.\n",
    "    response_body = response.read()\n",
    "    # 읽은 HTML 정보를 출력하면 바이너리 파일로 사람이 읽을수 없어서\n",
    "    # decode('utf-8') 형식으로 변환해준다.\n",
    "    print(response_body.decode('utf-8'))\n",
    "else:\n",
    "    print(\"Error Code:\" + rescode)"
   ]
  },
  {
   "cell_type": "markdown",
   "id": "48da9363",
   "metadata": {},
   "source": [
    "#### 나머지로 영화, 카페, 쇼핑, 백과사전도 있다. 이것도 위와 같이 이용해서 사용하면 된다."
   ]
  },
  {
   "cell_type": "markdown",
   "id": "390b6872",
   "metadata": {},
   "source": [
    "### 3. NAVER API 사용을 자동화 기능 만들기\n",
    "\n",
    "상품 : **갤럭시Z플립3** 를 검색하여 평균 시중에서 파는 가격대 알아보기."
   ]
  },
  {
   "cell_type": "code",
   "execution_count": 6,
   "id": "361c1c77",
   "metadata": {},
   "outputs": [],
   "source": [
    "# 검색 url 정보 추출\n",
    "def searchUrl(api_node, search_text, start_num, disp_num):\n",
    "    \"\"\"\n",
    "        params : \n",
    "            api_node : 검색할 카테고리 (블로그, 책, 카페, 쇼핑, 백과사전 등등)\n",
    "            search_text : 검색어\n",
    "            start_num : 호출을 시작할 번지수\n",
    "            disp_num : 호출할 정보의 갯수\n",
    "        -------\n",
    "        return : \n",
    "            검색할 url 정보\n",
    "    \"\"\"\n",
    "    base = \"https://openapi.naver.com/v1/search\"\n",
    "    node = \"/\" + api_node + \".json\"\n",
    "    param_query = \"?query=\" + urllib.parse.quote(search_text)\n",
    "    param_start = \"&start=\" + str(start_num)\n",
    "    param_disp = \"&display=\" + str(disp_num)\n",
    "    \n",
    "    return base + node + param_query + param_start + param_disp"
   ]
  },
  {
   "cell_type": "code",
   "execution_count": 7,
   "id": "607bbefd",
   "metadata": {},
   "outputs": [
    {
     "data": {
      "text/plain": [
       "'https://openapi.naver.com/v1/search/shop.json?query=%EA%B0%A4%EB%9F%AD%EC%8B%9CZ%ED%94%8C%EB%A6%BD3&start=10&display=3'"
      ]
     },
     "execution_count": 7,
     "metadata": {},
     "output_type": "execute_result"
    }
   ],
   "source": [
    "searchUrl(\"shop\", \"갤럭시Z플립3\", 10, 3)"
   ]
  },
  {
   "cell_type": "code",
   "execution_count": 8,
   "id": "560c7fde",
   "metadata": {},
   "outputs": [],
   "source": [
    "import json \n",
    "import datetime \n",
    "\n",
    "def get_ResultOnPage(url):\n",
    "    \"\"\"\n",
    "        param :\n",
    "            url : 검색할 url 정보\n",
    "        ----\n",
    "        return : \n",
    "            검색을 통해 얻고자 한 정보\n",
    "    \"\"\"\n",
    "    request = urllib.request.Request(url) # 내가 요청하고 싶은 url을 입력한다.\n",
    "    request.add_header(\"X-Naver-Client-Id\", client_id)\n",
    "    request.add_header(\"X-Naver-Client-Secret\", client_secret)\n",
    "    response = urllib.request.urlopen(request)\n",
    "    print(\"[%s] Url Request Success\" % datetime.datetime.now())\n",
    "    return json.loads(response.read().decode(\"utf-8\"))"
   ]
  },
  {
   "cell_type": "code",
   "execution_count": 9,
   "id": "d1f1058f",
   "metadata": {},
   "outputs": [
    {
     "name": "stdout",
     "output_type": "stream",
     "text": [
      "[2021-10-29 14:36:18.426257] Url Request Success\n"
     ]
    },
    {
     "data": {
      "text/plain": [
       "{'lastBuildDate': 'Fri, 29 Oct 2021 14:36:19 +0900',\n",
       " 'total': 248137,\n",
       " 'start': 1,\n",
       " 'display': 5,\n",
       " 'items': [{'title': '삼성전자 <b>갤럭시 Z 플립3</b> 256GB (자급제)',\n",
       "   'link': 'https://search.shopping.naver.com/gate.nhn?id=28466086554',\n",
       "   'image': 'https://shopping-phinf.pstatic.net/main_2846608/28466086554.20210817145650.jpg',\n",
       "   'lprice': '1087200',\n",
       "   'hprice': '',\n",
       "   'mallName': '네이버',\n",
       "   'productId': '28466086554',\n",
       "   'productType': '1',\n",
       "   'brand': '갤럭시',\n",
       "   'maker': '삼성전자',\n",
       "   'category1': '디지털/가전',\n",
       "   'category2': '휴대폰',\n",
       "   'category3': '자급제폰',\n",
       "   'category4': ''},\n",
       "  {'title': '삼성전자 <b>갤럭시 Z 플립3</b> 256GB (SKT)',\n",
       "   'link': 'https://search.shopping.naver.com/gate.nhn?id=28465715560',\n",
       "   'image': 'https://shopping-phinf.pstatic.net/main_2846571/28465715560.20210817145459.jpg',\n",
       "   'lprice': '187030',\n",
       "   'hprice': '',\n",
       "   'mallName': '네이버',\n",
       "   'productId': '28465715560',\n",
       "   'productType': '1',\n",
       "   'brand': '갤럭시',\n",
       "   'maker': '삼성전자',\n",
       "   'category1': '디지털/가전',\n",
       "   'category2': '휴대폰',\n",
       "   'category3': 'SKT',\n",
       "   'category4': ''},\n",
       "  {'title': '삼성전자 <b>갤럭시 Z 플립3</b> 256GB (KT)',\n",
       "   'link': 'https://search.shopping.naver.com/gate.nhn?id=28464191554',\n",
       "   'image': 'https://shopping-phinf.pstatic.net/main_2846419/28464191554.20210817124232.jpg',\n",
       "   'lprice': '388940',\n",
       "   'hprice': '',\n",
       "   'mallName': '네이버',\n",
       "   'productId': '28464191554',\n",
       "   'productType': '1',\n",
       "   'brand': '갤럭시',\n",
       "   'maker': '삼성전자',\n",
       "   'category1': '디지털/가전',\n",
       "   'category2': '휴대폰',\n",
       "   'category3': 'KT',\n",
       "   'category4': ''},\n",
       "  {'title': '삼성 <b>갤럭시 Z플립3</b>(F711) 자급제 풀박스 삼성A/S가능',\n",
       "   'link': 'https://search.shopping.naver.com/gate.nhn?id=29233382132',\n",
       "   'image': 'https://shopping-phinf.pstatic.net/main_2923338/29233382132.2.jpg',\n",
       "   'lprice': '999000',\n",
       "   'hprice': '',\n",
       "   'mallName': '인터파크',\n",
       "   'productId': '29233382132',\n",
       "   'productType': '2',\n",
       "   'brand': '삼성',\n",
       "   'maker': '삼성전자',\n",
       "   'category1': '디지털/가전',\n",
       "   'category2': '휴대폰',\n",
       "   'category3': '자급제폰',\n",
       "   'category4': ''},\n",
       "  {'title': '삼성전자 <b>갤럭시 Z 플립3</b> 256GB (LG U+)',\n",
       "   'link': 'https://search.shopping.naver.com/gate.nhn?id=28465415554',\n",
       "   'image': 'https://shopping-phinf.pstatic.net/main_2846541/28465415554.20210817134213.jpg',\n",
       "   'lprice': '480400',\n",
       "   'hprice': '',\n",
       "   'mallName': '네이버',\n",
       "   'productId': '28465415554',\n",
       "   'productType': '1',\n",
       "   'brand': '갤럭시 Z_LGU+',\n",
       "   'maker': '삼성전자',\n",
       "   'category1': '디지털/가전',\n",
       "   'category2': '휴대폰',\n",
       "   'category3': 'LG U+',\n",
       "   'category4': ''}]}"
      ]
     },
     "execution_count": 9,
     "metadata": {},
     "output_type": "execute_result"
    }
   ],
   "source": [
    "url = searchUrl(\"shop\", \"갤럭시Z플립3\", 1, 5)\n",
    "one_result = get_ResultOnPage(url)\n",
    "\n",
    "one_result"
   ]
  },
  {
   "cell_type": "code",
   "execution_count": 10,
   "id": "e0bd56eb",
   "metadata": {},
   "outputs": [
    {
     "data": {
      "text/plain": [
       "('삼성전자 <b>갤럭시 Z 플립3</b> 256GB (자급제)', '1087200')"
      ]
     },
     "execution_count": 10,
     "metadata": {},
     "output_type": "execute_result"
    }
   ],
   "source": [
    "# 0번 인덱스에 대한 제목, 가격 정보 가져오기\n",
    "one_result[\"items\"][0][\"title\"],one_result[\"items\"][0][\"lprice\"]"
   ]
  },
  {
   "cell_type": "markdown",
   "id": "6b47de03",
   "metadata": {},
   "source": [
    "제목을 보면 `<b> </b>`가 보인다. 이것은 HTML 문법으로 blod를 뜻하면 한국어로 굵음을 나타낸다.\n",
    "\n",
    "그렇기에 데이터를 취득시 제거해야할 요소이다.\n",
    "* 제거 방법\n",
    "    1. 정규표현식을 사용해 제거\n",
    "    2. replace 함수를 사용해서 제거"
   ]
  },
  {
   "cell_type": "code",
   "execution_count": 11,
   "id": "d0d9c313",
   "metadata": {},
   "outputs": [
    {
     "data": {
      "text/plain": [
       "'삼성전자 갤럭시 Z 플립3 256GB (자급제)'"
      ]
     },
     "execution_count": 11,
     "metadata": {},
     "output_type": "execute_result"
    }
   ],
   "source": [
    "# 1번 방식\n",
    "import re\n",
    "\n",
    "# <문자가 있고, /기호가 0번또는 1번 있으며 그 뒤에 b라는 문자가 있고 그 뒤에 > 문자를 찾아라.\n",
    "# 즉, <b> or </b> 를 찾아.\n",
    "p = re.compile(\"\\</{0,1}b\\>\")\n",
    "# sub -> replace와 동일하다. \n",
    "# sub(\"대체할문자\",교체할대상)\n",
    "p.sub(\"\",one_result[\"items\"][0][\"title\"]) "
   ]
  },
  {
   "cell_type": "code",
   "execution_count": 12,
   "id": "3eec974e",
   "metadata": {},
   "outputs": [
    {
     "data": {
      "text/plain": [
       "'삼성전자 갤럭시 Z 플립3 256GB (자급제)'"
      ]
     },
     "execution_count": 12,
     "metadata": {},
     "output_type": "execute_result"
    }
   ],
   "source": [
    "# 2번 방식\n",
    "def delete_tag(input_str):\n",
    "    input_str = input_str.replace(\"<b>\", \"\")\n",
    "    input_str = input_str.replace(\"</b>\", \"\")\n",
    "    return input_str \n",
    "\n",
    "delete_tag(one_result[\"items\"][0][\"title\"])"
   ]
  },
  {
   "cell_type": "markdown",
   "id": "4b445508",
   "metadata": {},
   "source": [
    "### 200개 상품 정보를 크롤링해서 갤럭시 Z 플립 3의 가격을 확인해보자.\n",
    "\n",
    "< 방법 >\n",
    "1. 우선 어떤 정보를 가져와야 할지 생각하기\n",
    "2. 정리가 됐다면 작은것부터 해결하고 큰것을 해결할 수 있게 코드를 작성한다.\n",
    "    - 0번째 인덱스를 활용해 원하는 데이터 정보 취득\n",
    "    - 한개의 데이터가 성공했다면 여러개의 데이터를 시도해 취득\n",
    "3. DataFrame을 배웠기에 해당 정보를 DataFrame으로 변환한다.\n",
    "4. 변환된 DataFrame을 excel 파일로 저장한다.(csv or xlsx)\n",
    "5. 분석을 시작한다."
   ]
  },
  {
   "cell_type": "markdown",
   "id": "d6993d53",
   "metadata": {},
   "source": [
    "* 분석할 취득 정보 선언\n",
    "    1. 상품이름\n",
    "    2. 가격\n",
    "    3. 쇼핑몰\n",
    "    4. 메모리 정보"
   ]
  },
  {
   "cell_type": "code",
   "execution_count": 13,
   "id": "8634e487",
   "metadata": {},
   "outputs": [
    {
     "name": "stdout",
     "output_type": "stream",
     "text": [
      "[2021-10-29 14:42:04.075249] Url Request Success\n"
     ]
    }
   ],
   "source": [
    "url = searchUrl(\"shop\", \"갤럭시Z플립3\", 1, 10)\n",
    "one_result = get_ResultOnPage(url)"
   ]
  },
  {
   "cell_type": "code",
   "execution_count": 14,
   "id": "65ae6c1c",
   "metadata": {},
   "outputs": [
    {
     "data": {
      "text/plain": [
       "'삼성전자 갤럭시 Z플립3 5G SM-F711N 256GB 자급제 크림 _RM'"
      ]
     },
     "execution_count": 14,
     "metadata": {},
     "output_type": "execute_result"
    }
   ],
   "source": [
    "i =9\n",
    "title = p.sub(\"\",one_result[\"items\"][i][\"title\"]) \n",
    "title"
   ]
  },
  {
   "cell_type": "code",
   "execution_count": 15,
   "id": "34a5f2df",
   "metadata": {},
   "outputs": [
    {
     "data": {
      "text/plain": [
       "'1361900'"
      ]
     },
     "execution_count": 15,
     "metadata": {},
     "output_type": "execute_result"
    }
   ],
   "source": [
    "one_result[\"items\"][i][\"lprice\"]"
   ]
  },
  {
   "cell_type": "code",
   "execution_count": 16,
   "id": "8418fb26",
   "metadata": {},
   "outputs": [
    {
     "data": {
      "text/plain": [
       "'G마켓'"
      ]
     },
     "execution_count": 16,
     "metadata": {},
     "output_type": "execute_result"
    }
   ],
   "source": [
    "one_result[\"items\"][i][\"mallName\"]"
   ]
  },
  {
   "cell_type": "code",
   "execution_count": null,
   "id": "870b97dd",
   "metadata": {},
   "outputs": [],
   "source": []
  },
  {
   "cell_type": "code",
   "execution_count": 17,
   "id": "4ea731ee",
   "metadata": {},
   "outputs": [
    {
     "name": "stdout",
     "output_type": "stream",
     "text": [
      "256GB\n",
      "1361900\n",
      "G마켓\n"
     ]
    }
   ],
   "source": [
    "p1 = re.compile(\"[0-9]{3}GB\")\n",
    "try : \n",
    "    memory = p1.search(title).group()\n",
    "except AttributeError:\n",
    "    memory = None\n",
    "print(memory)\n",
    "price = p.sub(\"\",one_result[\"items\"][i][\"lprice\"]) \n",
    "print(price)\n",
    "mallName = one_result[\"items\"][i][\"mallName\"]\n",
    "print(mallName)"
   ]
  },
  {
   "cell_type": "markdown",
   "id": "d8b8fa59",
   "metadata": {},
   "source": [
    "* 작은 방법에 대해 성공했으니 작은것을 모아서 큰것을 해결하기"
   ]
  },
  {
   "cell_type": "code",
   "execution_count": 18,
   "id": "43533f1c",
   "metadata": {},
   "outputs": [
    {
     "name": "stdout",
     "output_type": "stream",
     "text": [
      "[2021-10-29 14:44:42.673299] Url Request Success\n"
     ]
    },
    {
     "name": "stderr",
     "output_type": "stream",
     "text": [
      "C:\\Users\\jongwon\\AppData\\Local\\Temp/ipykernel_21152/2661114939.py:13: TqdmDeprecationWarning: This function will be removed in tqdm==5.0.0\n",
      "Please use `tqdm.notebook.tqdm` instead of `tqdm.tqdm_notebook`\n",
      "  for i in tqdm_notebook(range(100)):\n"
     ]
    },
    {
     "data": {
      "application/vnd.jupyter.widget-view+json": {
       "model_id": "eec8ae6230864113a8408a7b212d3f88",
       "version_major": 2,
       "version_minor": 0
      },
      "text/plain": [
       "  0%|          | 0/100 [00:00<?, ?it/s]"
      ]
     },
     "metadata": {},
     "output_type": "display_data"
    },
    {
     "name": "stdout",
     "output_type": "stream",
     "text": [
      "[2021-10-29 14:44:43.594582] Url Request Success\n"
     ]
    },
    {
     "data": {
      "application/vnd.jupyter.widget-view+json": {
       "model_id": "8ab3decaccd94636a0ead35973d88121",
       "version_major": 2,
       "version_minor": 0
      },
      "text/plain": [
       "  0%|          | 0/100 [00:00<?, ?it/s]"
      ]
     },
     "metadata": {},
     "output_type": "display_data"
    }
   ],
   "source": [
    "from tqdm import tqdm_notebook\n",
    "\n",
    "p = re.compile(\"\\</{0,1}b\\>\")\n",
    "p1 = re.compile(\"[0-9]{3}GB\")\n",
    "\n",
    "# 크롤링된 정보를 담을 리스트 선언\n",
    "zfilp_Info = []\n",
    "    \n",
    "for k in range(2):\n",
    "    url = searchUrl(\"shop\", \"갤럭시Z플립3\", 1 + (100 * k), 100)\n",
    "    one_result = get_ResultOnPage(url)\n",
    "\n",
    "    for i in tqdm_notebook(range(100)):\n",
    "        title = p.sub(\"\",one_result[\"items\"][i][\"title\"]) \n",
    "        try : \n",
    "            memory = p1.search(title).group()\n",
    "        except AttributeError:\n",
    "            memory = None\n",
    "        price = int(p.sub(\"\",one_result[\"items\"][i][\"lprice\"]))\n",
    "        mallName = one_result[\"items\"][i][\"mallName\"]\n",
    "        zfilp_Info.append([title,memory,mallName,price])"
   ]
  },
  {
   "cell_type": "markdown",
   "id": "da0af150",
   "metadata": {},
   "source": [
    "잘 가져왔는지 검증"
   ]
  },
  {
   "cell_type": "code",
   "execution_count": 19,
   "id": "c1a8d067",
   "metadata": {},
   "outputs": [
    {
     "data": {
      "text/plain": [
       "[['삼성전자 갤럭시 Z 플립3 256GB (자급제)', '256GB', '네이버', 1087200],\n",
       " ['삼성전자 갤럭시 Z 플립3 256GB (SKT)', '256GB', '네이버', 187030],\n",
       " ['삼성전자 갤럭시 Z 플립3 256GB (KT)', '256GB', '네이버', 388940],\n",
       " ['삼성 갤럭시 Z플립3(F711) 자급제 풀박스 삼성A/S가능', None, '인터파크', 999000],\n",
       " ['삼성전자 갤럭시 Z 플립3 256GB (LG U+)', '256GB', '네이버', 480400]]"
      ]
     },
     "execution_count": 19,
     "metadata": {},
     "output_type": "execute_result"
    }
   ],
   "source": [
    "zfilp_Info[:5]"
   ]
  },
  {
   "cell_type": "markdown",
   "id": "f36632fd",
   "metadata": {},
   "source": [
    "* 가져온 정보를 DataFrame으로 변환"
   ]
  },
  {
   "cell_type": "code",
   "execution_count": 20,
   "id": "913f650a",
   "metadata": {},
   "outputs": [
    {
     "data": {
      "text/html": [
       "<div>\n",
       "<style scoped>\n",
       "    .dataframe tbody tr th:only-of-type {\n",
       "        vertical-align: middle;\n",
       "    }\n",
       "\n",
       "    .dataframe tbody tr th {\n",
       "        vertical-align: top;\n",
       "    }\n",
       "\n",
       "    .dataframe thead th {\n",
       "        text-align: right;\n",
       "    }\n",
       "</style>\n",
       "<table border=\"1\" class=\"dataframe\">\n",
       "  <thead>\n",
       "    <tr style=\"text-align: right;\">\n",
       "      <th></th>\n",
       "      <th>상품명</th>\n",
       "      <th>메모리</th>\n",
       "      <th>쇼핑몰</th>\n",
       "      <th>가격</th>\n",
       "    </tr>\n",
       "  </thead>\n",
       "  <tbody>\n",
       "    <tr>\n",
       "      <th>0</th>\n",
       "      <td>삼성전자 갤럭시 Z 플립3 256GB (자급제)</td>\n",
       "      <td>256GB</td>\n",
       "      <td>네이버</td>\n",
       "      <td>1087200</td>\n",
       "    </tr>\n",
       "    <tr>\n",
       "      <th>1</th>\n",
       "      <td>삼성전자 갤럭시 Z 플립3 256GB (SKT)</td>\n",
       "      <td>256GB</td>\n",
       "      <td>네이버</td>\n",
       "      <td>187030</td>\n",
       "    </tr>\n",
       "    <tr>\n",
       "      <th>2</th>\n",
       "      <td>삼성전자 갤럭시 Z 플립3 256GB (KT)</td>\n",
       "      <td>256GB</td>\n",
       "      <td>네이버</td>\n",
       "      <td>388940</td>\n",
       "    </tr>\n",
       "    <tr>\n",
       "      <th>3</th>\n",
       "      <td>삼성 갤럭시 Z플립3(F711) 자급제 풀박스 삼성A/S가능</td>\n",
       "      <td>None</td>\n",
       "      <td>인터파크</td>\n",
       "      <td>999000</td>\n",
       "    </tr>\n",
       "    <tr>\n",
       "      <th>4</th>\n",
       "      <td>삼성전자 갤럭시 Z 플립3 256GB (LG U+)</td>\n",
       "      <td>256GB</td>\n",
       "      <td>네이버</td>\n",
       "      <td>480400</td>\n",
       "    </tr>\n",
       "  </tbody>\n",
       "</table>\n",
       "</div>"
      ],
      "text/plain": [
       "                                 상품명    메모리   쇼핑몰       가격\n",
       "0         삼성전자 갤럭시 Z 플립3 256GB (자급제)  256GB   네이버  1087200\n",
       "1         삼성전자 갤럭시 Z 플립3 256GB (SKT)  256GB   네이버   187030\n",
       "2          삼성전자 갤럭시 Z 플립3 256GB (KT)  256GB   네이버   388940\n",
       "3  삼성 갤럭시 Z플립3(F711) 자급제 풀박스 삼성A/S가능   None  인터파크   999000\n",
       "4       삼성전자 갤럭시 Z 플립3 256GB (LG U+)  256GB   네이버   480400"
      ]
     },
     "execution_count": 20,
     "metadata": {},
     "output_type": "execute_result"
    }
   ],
   "source": [
    "import pandas as pd\n",
    "df = pd.DataFrame(zfilp_Info,columns=[\"상품명\",\"메모리\",\"쇼핑몰\",\"가격\"])\n",
    "df.head()"
   ]
  },
  {
   "cell_type": "markdown",
   "id": "27cb4d85",
   "metadata": {},
   "source": [
    "* 가져온 정보를 excel 파일로 저장. (csv, xlsx)"
   ]
  },
  {
   "cell_type": "code",
   "execution_count": 21,
   "id": "b3ca9678",
   "metadata": {},
   "outputs": [],
   "source": [
    "# df.to_csv(\"./Zfilp3.csv\",encoding=\"utf-8-sig\",index=False)"
   ]
  },
  {
   "cell_type": "markdown",
   "id": "25bb6368",
   "metadata": {},
   "source": [
    "* 갤럭시 Z 플립3의 평균 가격대가 얼마지 분석해보자."
   ]
  },
  {
   "cell_type": "code",
   "execution_count": 22,
   "id": "38ea57db",
   "metadata": {},
   "outputs": [
    {
     "name": "stdout",
     "output_type": "stream",
     "text": [
      "<class 'pandas.core.frame.DataFrame'>\n",
      "RangeIndex: 200 entries, 0 to 199\n",
      "Data columns (total 4 columns):\n",
      " #   Column  Non-Null Count  Dtype \n",
      "---  ------  --------------  ----- \n",
      " 0   상품명     200 non-null    object\n",
      " 1   메모리     79 non-null     object\n",
      " 2   쇼핑몰     200 non-null    object\n",
      " 3   가격      200 non-null    int64 \n",
      "dtypes: int64(1), object(3)\n",
      "memory usage: 6.4+ KB\n"
     ]
    }
   ],
   "source": [
    "# 데이터 Frame 정보 확인 -> 컬럼에 Nan 존재 여부 및 DataType 확인 추가적으로 메모리 양까지 확인하면 베스트.\n",
    "df.info()"
   ]
  },
  {
   "cell_type": "code",
   "execution_count": 23,
   "id": "4aed388d",
   "metadata": {},
   "outputs": [
    {
     "data": {
      "text/html": [
       "<div>\n",
       "<style scoped>\n",
       "    .dataframe tbody tr th:only-of-type {\n",
       "        vertical-align: middle;\n",
       "    }\n",
       "\n",
       "    .dataframe tbody tr th {\n",
       "        vertical-align: top;\n",
       "    }\n",
       "\n",
       "    .dataframe thead th {\n",
       "        text-align: right;\n",
       "    }\n",
       "</style>\n",
       "<table border=\"1\" class=\"dataframe\">\n",
       "  <thead>\n",
       "    <tr style=\"text-align: right;\">\n",
       "      <th></th>\n",
       "      <th>가격</th>\n",
       "    </tr>\n",
       "  </thead>\n",
       "  <tbody>\n",
       "    <tr>\n",
       "      <th>count</th>\n",
       "      <td>2.000000e+02</td>\n",
       "    </tr>\n",
       "    <tr>\n",
       "      <th>mean</th>\n",
       "      <td>9.529912e+05</td>\n",
       "    </tr>\n",
       "    <tr>\n",
       "      <th>std</th>\n",
       "      <td>9.545598e+05</td>\n",
       "    </tr>\n",
       "    <tr>\n",
       "      <th>min</th>\n",
       "      <td>1.000000e+00</td>\n",
       "    </tr>\n",
       "    <tr>\n",
       "      <th>25%</th>\n",
       "      <td>4.456098e+05</td>\n",
       "    </tr>\n",
       "    <tr>\n",
       "      <th>50%</th>\n",
       "      <td>1.050520e+06</td>\n",
       "    </tr>\n",
       "    <tr>\n",
       "      <th>75%</th>\n",
       "      <td>1.222450e+06</td>\n",
       "    </tr>\n",
       "    <tr>\n",
       "      <th>max</th>\n",
       "      <td>6.445000e+06</td>\n",
       "    </tr>\n",
       "  </tbody>\n",
       "</table>\n",
       "</div>"
      ],
      "text/plain": [
       "                 가격\n",
       "count  2.000000e+02\n",
       "mean   9.529912e+05\n",
       "std    9.545598e+05\n",
       "min    1.000000e+00\n",
       "25%    4.456098e+05\n",
       "50%    1.050520e+06\n",
       "75%    1.222450e+06\n",
       "max    6.445000e+06"
      ]
     },
     "execution_count": 23,
     "metadata": {},
     "output_type": "execute_result"
    }
   ],
   "source": [
    "# 기술 통계\n",
    "df.describe()"
   ]
  },
  {
   "cell_type": "code",
   "execution_count": 24,
   "id": "2f6075cd",
   "metadata": {},
   "outputs": [
    {
     "name": "stderr",
     "output_type": "stream",
     "text": [
      "C:\\Users\\jongwon\\AppData\\Local\\Temp/ipykernel_21152/3754324840.py:1: FutureWarning: Dropping of nuisance columns in DataFrame reductions (with 'numeric_only=None') is deprecated; in a future version this will raise TypeError.  Select only valid columns before calling the reduction.\n",
      "  format(int(df.mean()),\",\")\n"
     ]
    },
    {
     "data": {
      "text/plain": [
       "'952,991'"
      ]
     },
     "execution_count": 24,
     "metadata": {},
     "output_type": "execute_result"
    }
   ],
   "source": [
    "format(int(df.mean()),\",\")"
   ]
  },
  {
   "cell_type": "markdown",
   "id": "a8357d24",
   "metadata": {},
   "source": [
    "#### 갤럭시 Z 플립이 평균 960,942원에 팔고 있다 라는 정보를 알수 있다."
   ]
  },
  {
   "cell_type": "markdown",
   "id": "aba270f7",
   "metadata": {},
   "source": [
    "가격분포는 어떻게 형성되었는지 확인해보자."
   ]
  },
  {
   "cell_type": "code",
   "execution_count": 26,
   "id": "5baa9a43",
   "metadata": {},
   "outputs": [],
   "source": [
    "import matplotlib.pyplot as plt\n",
    "import seaborn as sns\n",
    "\n",
    "import platform\n",
    "import seaborn as sns \n",
    "from matplotlib import font_manager, rc \n",
    "\n",
    "path = \"C:/Windows/Fonts/malgun.ttf\"\n",
    "\n",
    "if platform.system() == \"Darwin\":\n",
    "    rc(\"font\", family=\"Arial Unicode MS\")\n",
    "elif platform.system() == \"Windows\":\n",
    "    font_name = font_manager.FontProperties(fname=path).get_name()\n",
    "    rc(\"font\", family=font_name)\n",
    "else:\n",
    "    print(\"Unknown system. sorry\")"
   ]
  },
  {
   "cell_type": "code",
   "execution_count": 27,
   "id": "15323b81",
   "metadata": {},
   "outputs": [
    {
     "name": "stderr",
     "output_type": "stream",
     "text": [
      "C:\\Users\\jongwon\\miniconda3\\envs\\ds_study\\lib\\site-packages\\seaborn\\distributions.py:2619: FutureWarning: `distplot` is a deprecated function and will be removed in a future version. Please adapt your code to use either `displot` (a figure-level function with similar flexibility) or `histplot` (an axes-level function for histograms).\n",
      "  warnings.warn(msg, FutureWarning)\n",
      "C:\\Users\\jongwon\\miniconda3\\envs\\ds_study\\lib\\site-packages\\matplotlib\\backends\\backend_agg.py:240: RuntimeWarning: Glyph 8722 missing from current font.\n",
      "  font.set_text(s, 0.0, flags=flags)\n",
      "C:\\Users\\jongwon\\miniconda3\\envs\\ds_study\\lib\\site-packages\\matplotlib\\backends\\backend_agg.py:203: RuntimeWarning: Glyph 8722 missing from current font.\n",
      "  font.set_text(s, 0, flags=flags)\n"
     ]
    },
    {
     "data": {
      "image/png": "[encoded data removed]",
      "text/plain": [
       "<Figure size 720x360 with 1 Axes>"
      ]
     },
     "metadata": {
      "needs_background": "light"
     },
     "output_type": "display_data"
    }
   ],
   "source": [
    "plt.figure(figsize=(10,5))\n",
    "sns.distplot(df[\"가격\"]);\n",
    "plt.title(\"갤럭시 Z 플립의 확률밀도함수\",fontsize=20);\n",
    "plt.xticks([0,500000,1000000,1500000,2000000,3000000,6000000]);\n",
    "plt.show()"
   ]
  },
  {
   "cell_type": "markdown",
   "id": "8fc7bdab",
   "metadata": {},
   "source": [
    "가격이 엉뚱하게 300만원이 넘거나 0에 가까운 정보도 있다.그렇기에 해당 데이터에 대해서 의심을 해볼 가치가 있다."
   ]
  },
  {
   "cell_type": "code",
   "execution_count": 28,
   "id": "01c68aa5",
   "metadata": {},
   "outputs": [
    {
     "data": {
      "text/html": [
       "<div>\n",
       "<style scoped>\n",
       "    .dataframe tbody tr th:only-of-type {\n",
       "        vertical-align: middle;\n",
       "    }\n",
       "\n",
       "    .dataframe tbody tr th {\n",
       "        vertical-align: top;\n",
       "    }\n",
       "\n",
       "    .dataframe thead th {\n",
       "        text-align: right;\n",
       "    }\n",
       "</style>\n",
       "<table border=\"1\" class=\"dataframe\">\n",
       "  <thead>\n",
       "    <tr style=\"text-align: right;\">\n",
       "      <th></th>\n",
       "      <th>상품명</th>\n",
       "      <th>메모리</th>\n",
       "      <th>쇼핑몰</th>\n",
       "      <th>가격</th>\n",
       "    </tr>\n",
       "  </thead>\n",
       "  <tbody>\n",
       "    <tr>\n",
       "      <th>18</th>\n",
       "      <td>삼성전자 갤럭시 Z 플립3 256GB 톰브라운 에디션 (자급제)</td>\n",
       "      <td>256GB</td>\n",
       "      <td>네이버</td>\n",
       "      <td>5300000</td>\n",
       "    </tr>\n",
       "    <tr>\n",
       "      <th>31</th>\n",
       "      <td>삼성 갤럭시 Z 플립3 톰브라운 에디션</td>\n",
       "      <td>None</td>\n",
       "      <td>더 웨이브</td>\n",
       "      <td>6445000</td>\n",
       "    </tr>\n",
       "    <tr>\n",
       "      <th>51</th>\n",
       "      <td>삼성 갤럭시 Z 플립3 톰브라운 에디션</td>\n",
       "      <td>None</td>\n",
       "      <td>ALANDJAY</td>\n",
       "      <td>5990000</td>\n",
       "    </tr>\n",
       "    <tr>\n",
       "      <th>62</th>\n",
       "      <td>삼성 갤럭시 Z 플립3 톰브라운 에디션</td>\n",
       "      <td>None</td>\n",
       "      <td>LOVE KICKS</td>\n",
       "      <td>5990000</td>\n",
       "    </tr>\n",
       "    <tr>\n",
       "      <th>72</th>\n",
       "      <td>(100% 정품) 삼성 갤럭시 Z 플립 3 톰브라운 에디션 미국판 휴대폰 단품</td>\n",
       "      <td>None</td>\n",
       "      <td>살아있는양심스토어 2호점</td>\n",
       "      <td>4000000</td>\n",
       "    </tr>\n",
       "    <tr>\n",
       "      <th>137</th>\n",
       "      <td>(100% 정품) 삼성 갤럭시 Z 플립 3 톰브라운 에디션 미국판 미개봉 풀세트</td>\n",
       "      <td>None</td>\n",
       "      <td>살아있는양심스토어 2호점</td>\n",
       "      <td>6000000</td>\n",
       "    </tr>\n",
       "  </tbody>\n",
       "</table>\n",
       "</div>"
      ],
      "text/plain": [
       "                                              상품명    메모리            쇼핑몰  \\\n",
       "18            삼성전자 갤럭시 Z 플립3 256GB 톰브라운 에디션 (자급제)  256GB            네이버   \n",
       "31                          삼성 갤럭시 Z 플립3 톰브라운 에디션   None          더 웨이브   \n",
       "51                          삼성 갤럭시 Z 플립3 톰브라운 에디션   None       ALANDJAY   \n",
       "62                          삼성 갤럭시 Z 플립3 톰브라운 에디션   None     LOVE KICKS   \n",
       "72    (100% 정품) 삼성 갤럭시 Z 플립 3 톰브라운 에디션 미국판 휴대폰 단품   None  살아있는양심스토어 2호점   \n",
       "137  (100% 정품) 삼성 갤럭시 Z 플립 3 톰브라운 에디션 미국판 미개봉 풀세트   None  살아있는양심스토어 2호점   \n",
       "\n",
       "          가격  \n",
       "18   5300000  \n",
       "31   6445000  \n",
       "51   5990000  \n",
       "62   5990000  \n",
       "72   4000000  \n",
       "137  6000000  "
      ]
     },
     "execution_count": 28,
     "metadata": {},
     "output_type": "execute_result"
    }
   ],
   "source": [
    "df[df[\"가격\"] > 3000000]"
   ]
  },
  {
   "cell_type": "markdown",
   "id": "08bfdad9",
   "metadata": {},
   "source": [
    "Damn!! 300백만원이 넘는 휴대폰은 톰브라운 에디션이었구나. 그럼 해당 데이터를 분리해서 볼것인지 아닌지 판단해야한다.\n",
    "\n",
    "그렇기에 일반적인 Z플립3와 톰브라운 한정판 Z제트 플립은 다른 휴대폰 기종의 휴대폰이라고 보고 분석하면 좋을 것으로 판단되고 번외로 톰브라운 에디션만 추출해서 톰브라운 Z플립을 사고자 한다면 얼마에 사야하는지 확인할 수 있겠다."
   ]
  },
  {
   "cell_type": "code",
   "execution_count": 29,
   "id": "263f3640",
   "metadata": {},
   "outputs": [
    {
     "data": {
      "text/html": [
       "<div>\n",
       "<style scoped>\n",
       "    .dataframe tbody tr th:only-of-type {\n",
       "        vertical-align: middle;\n",
       "    }\n",
       "\n",
       "    .dataframe tbody tr th {\n",
       "        vertical-align: top;\n",
       "    }\n",
       "\n",
       "    .dataframe thead th {\n",
       "        text-align: right;\n",
       "    }\n",
       "</style>\n",
       "<table border=\"1\" class=\"dataframe\">\n",
       "  <thead>\n",
       "    <tr style=\"text-align: right;\">\n",
       "      <th></th>\n",
       "      <th>상품명</th>\n",
       "      <th>메모리</th>\n",
       "      <th>쇼핑몰</th>\n",
       "      <th>가격</th>\n",
       "    </tr>\n",
       "  </thead>\n",
       "  <tbody>\n",
       "    <tr>\n",
       "      <th>21</th>\n",
       "      <td>갤럭시 Z플립3 특별할인</td>\n",
       "      <td>None</td>\n",
       "      <td>주식회사 지원네트웍스</td>\n",
       "      <td>10000</td>\n",
       "    </tr>\n",
       "    <tr>\n",
       "      <th>23</th>\n",
       "      <td>［완납폰 / 공시지원 ］SKT 보상기변 갤럭시 Z플립3 5G 무료배송 SM-F711...</td>\n",
       "      <td>None</td>\n",
       "      <td>신세계몰</td>\n",
       "      <td>1</td>\n",
       "    </tr>\n",
       "    <tr>\n",
       "      <th>39</th>\n",
       "      <td>갤럭시 Z플립3 특별할인 KT 자급제X</td>\n",
       "      <td>None</td>\n",
       "      <td>주식회사 지원네트웍스</td>\n",
       "      <td>10000</td>\n",
       "    </tr>\n",
       "    <tr>\n",
       "      <th>54</th>\n",
       "      <td>SKT기기변경/갤럭시Z 플립3 /요금제 선택/공시지원금</td>\n",
       "      <td>None</td>\n",
       "      <td>G마켓</td>\n",
       "      <td>100</td>\n",
       "    </tr>\n",
       "    <tr>\n",
       "      <th>59</th>\n",
       "      <td>［완납폰 / 공시지원금］KT 보상기변 갤럭시 Z플립3 5G 무료배송 SM-F711N...</td>\n",
       "      <td>None</td>\n",
       "      <td>이마트몰</td>\n",
       "      <td>1</td>\n",
       "    </tr>\n",
       "    <tr>\n",
       "      <th>66</th>\n",
       "      <td>갤럭시 Z플립3 투명 하드 케이스+크로스 롱 스트랩 제트플립 지플립</td>\n",
       "      <td>None</td>\n",
       "      <td>위메프</td>\n",
       "      <td>20400</td>\n",
       "    </tr>\n",
       "    <tr>\n",
       "      <th>67</th>\n",
       "      <td>삼성 갤럭시 Z플립3 SK할부(신규/번이/기변)가입</td>\n",
       "      <td>None</td>\n",
       "      <td>인터파크</td>\n",
       "      <td>1000</td>\n",
       "    </tr>\n",
       "    <tr>\n",
       "      <th>73</th>\n",
       "      <td>갤럭시 Z플립3 특별할인 LG U+ 자급제X</td>\n",
       "      <td>None</td>\n",
       "      <td>주식회사 지원네트웍스</td>\n",
       "      <td>10000</td>\n",
       "    </tr>\n",
       "    <tr>\n",
       "      <th>78</th>\n",
       "      <td>갤럭시a325(선약/세이브/번이)/갤럭시z플립3</td>\n",
       "      <td>None</td>\n",
       "      <td>G마켓</td>\n",
       "      <td>1</td>\n",
       "    </tr>\n",
       "    <tr>\n",
       "      <th>103</th>\n",
       "      <td>갤럭시Z플립3 패브릭 심플 커버 하드 케이스 P654</td>\n",
       "      <td>None</td>\n",
       "      <td>위메프</td>\n",
       "      <td>10900</td>\n",
       "    </tr>\n",
       "    <tr>\n",
       "      <th>106</th>\n",
       "      <td>삼성 갤럭시 Z플립3 대여 휴대폰 렌탈 스마트폰 임대(의무사용3일)+등록비 별도</td>\n",
       "      <td>None</td>\n",
       "      <td>블루로렌공식몰</td>\n",
       "      <td>20000</td>\n",
       "    </tr>\n",
       "    <tr>\n",
       "      <th>114</th>\n",
       "      <td>SKT 보상기변 갤럭시Z플립3 공시지원 SM-F711N 256G</td>\n",
       "      <td>None</td>\n",
       "      <td>인터파크</td>\n",
       "      <td>1</td>\n",
       "    </tr>\n",
       "    <tr>\n",
       "      <th>128</th>\n",
       "      <td>갤럭시 Z플립3 투명 하드 케이스+넘버5 진주 스트랩 제트플립 지플립</td>\n",
       "      <td>None</td>\n",
       "      <td>위메프</td>\n",
       "      <td>14400</td>\n",
       "    </tr>\n",
       "    <tr>\n",
       "      <th>146</th>\n",
       "      <td>SKT기기변경/갤럭시Z 플립3 /요금제 선택/공시지원금</td>\n",
       "      <td>None</td>\n",
       "      <td>11번가</td>\n",
       "      <td>100</td>\n",
       "    </tr>\n",
       "    <tr>\n",
       "      <th>159</th>\n",
       "      <td>삼성 갤럭시 Z플립3 SK할부(기변/신규/번이)가입</td>\n",
       "      <td>None</td>\n",
       "      <td>인터파크</td>\n",
       "      <td>1000</td>\n",
       "    </tr>\n",
       "    <tr>\n",
       "      <th>161</th>\n",
       "      <td>갤럭시 Z플립3 투명 하드 케이스+벨로아 스트랩 제트플립 지플립</td>\n",
       "      <td>None</td>\n",
       "      <td>위메프</td>\n",
       "      <td>17000</td>\n",
       "    </tr>\n",
       "    <tr>\n",
       "      <th>168</th>\n",
       "      <td>삼성 갤럭시 Z플립3 KT할부(번이/기변/신규)가입</td>\n",
       "      <td>None</td>\n",
       "      <td>인터파크</td>\n",
       "      <td>1000</td>\n",
       "    </tr>\n",
       "    <tr>\n",
       "      <th>173</th>\n",
       "      <td>[삼성전자] [삼성 갤럭시 Z플립3 완납 [ KT / 선택약정 / 55요금제 /  ...</td>\n",
       "      <td>None</td>\n",
       "      <td>SSG닷컴</td>\n",
       "      <td>1</td>\n",
       "    </tr>\n",
       "    <tr>\n",
       "      <th>185</th>\n",
       "      <td>삼성 갤럭시 Z플립3 SK할부(신규/번이/기변)가입</td>\n",
       "      <td>None</td>\n",
       "      <td>인터파크</td>\n",
       "      <td>1000</td>\n",
       "    </tr>\n",
       "    <tr>\n",
       "      <th>197</th>\n",
       "      <td>［완납폰 / 공시지원 ］SKT 보상기변 갤럭시 Z플립3 5G 무료배송 SM-F711...</td>\n",
       "      <td>None</td>\n",
       "      <td>SSG닷컴</td>\n",
       "      <td>1</td>\n",
       "    </tr>\n",
       "  </tbody>\n",
       "</table>\n",
       "</div>"
      ],
      "text/plain": [
       "                                                   상품명   메모리          쇼핑몰  \\\n",
       "21                                       갤럭시 Z플립3 특별할인  None  주식회사 지원네트웍스   \n",
       "23   ［완납폰 / 공시지원 ］SKT 보상기변 갤럭시 Z플립3 5G 무료배송 SM-F711...  None         신세계몰   \n",
       "39                               갤럭시 Z플립3 특별할인 KT 자급제X  None  주식회사 지원네트웍스   \n",
       "54                      SKT기기변경/갤럭시Z 플립3 /요금제 선택/공시지원금  None          G마켓   \n",
       "59   ［완납폰 / 공시지원금］KT 보상기변 갤럭시 Z플립3 5G 무료배송 SM-F711N...  None         이마트몰   \n",
       "66               갤럭시 Z플립3 투명 하드 케이스+크로스 롱 스트랩 제트플립 지플립  None          위메프   \n",
       "67                        삼성 갤럭시 Z플립3 SK할부(신규/번이/기변)가입  None         인터파크   \n",
       "73                            갤럭시 Z플립3 특별할인 LG U+ 자급제X  None  주식회사 지원네트웍스   \n",
       "78                          갤럭시a325(선약/세이브/번이)/갤럭시z플립3  None          G마켓   \n",
       "103                      갤럭시Z플립3 패브릭 심플 커버 하드 케이스 P654  None          위메프   \n",
       "106       삼성 갤럭시 Z플립3 대여 휴대폰 렌탈 스마트폰 임대(의무사용3일)+등록비 별도  None      블루로렌공식몰   \n",
       "114                SKT 보상기변 갤럭시Z플립3 공시지원 SM-F711N 256G  None         인터파크   \n",
       "128             갤럭시 Z플립3 투명 하드 케이스+넘버5 진주 스트랩 제트플립 지플립  None          위메프   \n",
       "146                     SKT기기변경/갤럭시Z 플립3 /요금제 선택/공시지원금  None         11번가   \n",
       "159                       삼성 갤럭시 Z플립3 SK할부(기변/신규/번이)가입  None         인터파크   \n",
       "161                갤럭시 Z플립3 투명 하드 케이스+벨로아 스트랩 제트플립 지플립  None          위메프   \n",
       "168                       삼성 갤럭시 Z플립3 KT할부(번이/기변/신규)가입  None         인터파크   \n",
       "173  [삼성전자] [삼성 갤럭시 Z플립3 완납 [ KT / 선택약정 / 55요금제 /  ...  None        SSG닷컴   \n",
       "185                       삼성 갤럭시 Z플립3 SK할부(신규/번이/기변)가입  None         인터파크   \n",
       "197  ［완납폰 / 공시지원 ］SKT 보상기변 갤럭시 Z플립3 5G 무료배송 SM-F711...  None        SSG닷컴   \n",
       "\n",
       "        가격  \n",
       "21   10000  \n",
       "23       1  \n",
       "39   10000  \n",
       "54     100  \n",
       "59       1  \n",
       "66   20400  \n",
       "67    1000  \n",
       "73   10000  \n",
       "78       1  \n",
       "103  10900  \n",
       "106  20000  \n",
       "114      1  \n",
       "128  14400  \n",
       "146    100  \n",
       "159   1000  \n",
       "161  17000  \n",
       "168   1000  \n",
       "173      1  \n",
       "185   1000  \n",
       "197      1  "
      ]
     },
     "execution_count": 29,
     "metadata": {},
     "output_type": "execute_result"
    }
   ],
   "source": [
    "df[df[\"가격\"] < 50000]"
   ]
  },
  {
   "cell_type": "markdown",
   "id": "dea5448f",
   "metadata": {},
   "source": [
    "5만원 이하 휴대폰을 보았을때 통신사가 묶이면서 1원 100원 1000원 말이 안되는 가격대를 형성한다. 그렇기에 해당 데이터는 삭제할 필요성이 있다고 본다. 또한 투명 하드 케이스 같이 휴대폰을 검색했지만 케이스가 같이 나온 경우도 있다. 그렇기에 분석시 케이스라는 단어가 있는 데이터는 제거 후 진행하면 좋을것으로 판단된다."
   ]
  },
  {
   "cell_type": "code",
   "execution_count": 30,
   "id": "605286db",
   "metadata": {},
   "outputs": [
    {
     "data": {
      "text/html": [
       "<div>\n",
       "<style scoped>\n",
       "    .dataframe tbody tr th:only-of-type {\n",
       "        vertical-align: middle;\n",
       "    }\n",
       "\n",
       "    .dataframe tbody tr th {\n",
       "        vertical-align: top;\n",
       "    }\n",
       "\n",
       "    .dataframe thead th {\n",
       "        text-align: right;\n",
       "    }\n",
       "</style>\n",
       "<table border=\"1\" class=\"dataframe\">\n",
       "  <thead>\n",
       "    <tr style=\"text-align: right;\">\n",
       "      <th></th>\n",
       "      <th>상품명</th>\n",
       "      <th>메모리</th>\n",
       "      <th>쇼핑몰</th>\n",
       "      <th>가격</th>\n",
       "    </tr>\n",
       "  </thead>\n",
       "  <tbody>\n",
       "    <tr>\n",
       "      <th>48</th>\n",
       "      <td>삼성전자 갤럭시 Z플립3 256GB(자급제)/라벤더+케이스</td>\n",
       "      <td>256GB</td>\n",
       "      <td>옥션</td>\n",
       "      <td>1348740</td>\n",
       "    </tr>\n",
       "    <tr>\n",
       "      <th>66</th>\n",
       "      <td>갤럭시 Z플립3 투명 하드 케이스+크로스 롱 스트랩 제트플립 지플립</td>\n",
       "      <td>None</td>\n",
       "      <td>위메프</td>\n",
       "      <td>20400</td>\n",
       "    </tr>\n",
       "    <tr>\n",
       "      <th>88</th>\n",
       "      <td>삼성전자 갤럭시 Z 플립3 256GB (자급제)/라벤더/크림+케이스</td>\n",
       "      <td>256GB</td>\n",
       "      <td>11번가</td>\n",
       "      <td>1305600</td>\n",
       "    </tr>\n",
       "    <tr>\n",
       "      <th>103</th>\n",
       "      <td>갤럭시Z플립3 패브릭 심플 커버 하드 케이스 P654</td>\n",
       "      <td>None</td>\n",
       "      <td>위메프</td>\n",
       "      <td>10900</td>\n",
       "    </tr>\n",
       "    <tr>\n",
       "      <th>128</th>\n",
       "      <td>갤럭시 Z플립3 투명 하드 케이스+넘버5 진주 스트랩 제트플립 지플립</td>\n",
       "      <td>None</td>\n",
       "      <td>위메프</td>\n",
       "      <td>14400</td>\n",
       "    </tr>\n",
       "    <tr>\n",
       "      <th>161</th>\n",
       "      <td>갤럭시 Z플립3 투명 하드 케이스+벨로아 스트랩 제트플립 지플립</td>\n",
       "      <td>None</td>\n",
       "      <td>위메프</td>\n",
       "      <td>17000</td>\n",
       "    </tr>\n",
       "  </tbody>\n",
       "</table>\n",
       "</div>"
      ],
      "text/plain": [
       "                                        상품명    메모리   쇼핑몰       가격\n",
       "48         삼성전자 갤럭시 Z플립3 256GB(자급제)/라벤더+케이스  256GB    옥션  1348740\n",
       "66    갤럭시 Z플립3 투명 하드 케이스+크로스 롱 스트랩 제트플립 지플립   None   위메프    20400\n",
       "88    삼성전자 갤럭시 Z 플립3 256GB (자급제)/라벤더/크림+케이스  256GB  11번가  1305600\n",
       "103           갤럭시Z플립3 패브릭 심플 커버 하드 케이스 P654   None   위메프    10900\n",
       "128  갤럭시 Z플립3 투명 하드 케이스+넘버5 진주 스트랩 제트플립 지플립   None   위메프    14400\n",
       "161     갤럭시 Z플립3 투명 하드 케이스+벨로아 스트랩 제트플립 지플립   None   위메프    17000"
      ]
     },
     "execution_count": 30,
     "metadata": {},
     "output_type": "execute_result"
    }
   ],
   "source": [
    "df[df[\"상품명\"].str.contains(\"케이스\")]"
   ]
  },
  {
   "cell_type": "markdown",
   "id": "f1b33bc0",
   "metadata": {},
   "source": [
    "케이스 단어를 검색하니 해당 데이터 정보가 추출됐지만 130만원이라고 어느정도 신뢰성 있는 데이터들이 존재한다. 그렇기에 가격 정보가 평균보다 높으면 케이스 데이터로 취급하지 않게 하자."
   ]
  },
  {
   "cell_type": "code",
   "execution_count": 31,
   "id": "2a20c56d",
   "metadata": {},
   "outputs": [
    {
     "data": {
      "text/html": [
       "<div>\n",
       "<style scoped>\n",
       "    .dataframe tbody tr th:only-of-type {\n",
       "        vertical-align: middle;\n",
       "    }\n",
       "\n",
       "    .dataframe tbody tr th {\n",
       "        vertical-align: top;\n",
       "    }\n",
       "\n",
       "    .dataframe thead th {\n",
       "        text-align: right;\n",
       "    }\n",
       "</style>\n",
       "<table border=\"1\" class=\"dataframe\">\n",
       "  <thead>\n",
       "    <tr style=\"text-align: right;\">\n",
       "      <th></th>\n",
       "      <th>상품명</th>\n",
       "      <th>메모리</th>\n",
       "      <th>쇼핑몰</th>\n",
       "      <th>가격</th>\n",
       "    </tr>\n",
       "  </thead>\n",
       "  <tbody>\n",
       "    <tr>\n",
       "      <th>66</th>\n",
       "      <td>갤럭시 Z플립3 투명 하드 케이스+크로스 롱 스트랩 제트플립 지플립</td>\n",
       "      <td>None</td>\n",
       "      <td>위메프</td>\n",
       "      <td>20400</td>\n",
       "    </tr>\n",
       "    <tr>\n",
       "      <th>103</th>\n",
       "      <td>갤럭시Z플립3 패브릭 심플 커버 하드 케이스 P654</td>\n",
       "      <td>None</td>\n",
       "      <td>위메프</td>\n",
       "      <td>10900</td>\n",
       "    </tr>\n",
       "    <tr>\n",
       "      <th>128</th>\n",
       "      <td>갤럭시 Z플립3 투명 하드 케이스+넘버5 진주 스트랩 제트플립 지플립</td>\n",
       "      <td>None</td>\n",
       "      <td>위메프</td>\n",
       "      <td>14400</td>\n",
       "    </tr>\n",
       "    <tr>\n",
       "      <th>161</th>\n",
       "      <td>갤럭시 Z플립3 투명 하드 케이스+벨로아 스트랩 제트플립 지플립</td>\n",
       "      <td>None</td>\n",
       "      <td>위메프</td>\n",
       "      <td>17000</td>\n",
       "    </tr>\n",
       "  </tbody>\n",
       "</table>\n",
       "</div>"
      ],
      "text/plain": [
       "                                        상품명   메모리  쇼핑몰     가격\n",
       "66    갤럭시 Z플립3 투명 하드 케이스+크로스 롱 스트랩 제트플립 지플립  None  위메프  20400\n",
       "103           갤럭시Z플립3 패브릭 심플 커버 하드 케이스 P654  None  위메프  10900\n",
       "128  갤럭시 Z플립3 투명 하드 케이스+넘버5 진주 스트랩 제트플립 지플립  None  위메프  14400\n",
       "161     갤럭시 Z플립3 투명 하드 케이스+벨로아 스트랩 제트플립 지플립  None  위메프  17000"
      ]
     },
     "execution_count": 31,
     "metadata": {},
     "output_type": "execute_result"
    }
   ],
   "source": [
    "df[(df[\"상품명\"].str.contains(\"케이스\")) & (df[\"가격\"]< df[\"가격\"].mean())]"
   ]
  },
  {
   "cell_type": "markdown",
   "id": "63a3d935",
   "metadata": {},
   "source": [
    "원하던 정보가 추출됐고, 해당 데이터를 제거하자."
   ]
  },
  {
   "cell_type": "code",
   "execution_count": 32,
   "id": "0cf177ee",
   "metadata": {},
   "outputs": [],
   "source": [
    "# ~ 부정\n",
    "df = df[~((df[\"상품명\"].str.contains(\"케이스\")) & (df[\"가격\"]< df[\"가격\"].mean()))]"
   ]
  },
  {
   "cell_type": "code",
   "execution_count": 33,
   "id": "f37f9935",
   "metadata": {},
   "outputs": [
    {
     "data": {
      "text/html": [
       "<div>\n",
       "<style scoped>\n",
       "    .dataframe tbody tr th:only-of-type {\n",
       "        vertical-align: middle;\n",
       "    }\n",
       "\n",
       "    .dataframe tbody tr th {\n",
       "        vertical-align: top;\n",
       "    }\n",
       "\n",
       "    .dataframe thead th {\n",
       "        text-align: right;\n",
       "    }\n",
       "</style>\n",
       "<table border=\"1\" class=\"dataframe\">\n",
       "  <thead>\n",
       "    <tr style=\"text-align: right;\">\n",
       "      <th></th>\n",
       "      <th>상품명</th>\n",
       "      <th>메모리</th>\n",
       "      <th>쇼핑몰</th>\n",
       "      <th>가격</th>\n",
       "    </tr>\n",
       "  </thead>\n",
       "  <tbody>\n",
       "    <tr>\n",
       "      <th>0</th>\n",
       "      <td>삼성전자 갤럭시 Z 플립3 256GB (자급제)</td>\n",
       "      <td>256GB</td>\n",
       "      <td>네이버</td>\n",
       "      <td>1087200</td>\n",
       "    </tr>\n",
       "    <tr>\n",
       "      <th>1</th>\n",
       "      <td>삼성전자 갤럭시 Z 플립3 256GB (SKT)</td>\n",
       "      <td>256GB</td>\n",
       "      <td>네이버</td>\n",
       "      <td>187030</td>\n",
       "    </tr>\n",
       "    <tr>\n",
       "      <th>2</th>\n",
       "      <td>삼성전자 갤럭시 Z 플립3 256GB (KT)</td>\n",
       "      <td>256GB</td>\n",
       "      <td>네이버</td>\n",
       "      <td>388940</td>\n",
       "    </tr>\n",
       "    <tr>\n",
       "      <th>3</th>\n",
       "      <td>삼성 갤럭시 Z플립3(F711) 자급제 풀박스 삼성A/S가능</td>\n",
       "      <td>None</td>\n",
       "      <td>인터파크</td>\n",
       "      <td>999000</td>\n",
       "    </tr>\n",
       "    <tr>\n",
       "      <th>4</th>\n",
       "      <td>삼성전자 갤럭시 Z 플립3 256GB (LG U+)</td>\n",
       "      <td>256GB</td>\n",
       "      <td>네이버</td>\n",
       "      <td>480400</td>\n",
       "    </tr>\n",
       "    <tr>\n",
       "      <th>...</th>\n",
       "      <td>...</td>\n",
       "      <td>...</td>\n",
       "      <td>...</td>\n",
       "      <td>...</td>\n",
       "    </tr>\n",
       "    <tr>\n",
       "      <th>169</th>\n",
       "      <td>갤럭시 LGT 갤럭시Z플립3 5G 기기변경 / 번호이동</td>\n",
       "      <td>None</td>\n",
       "      <td>G마켓</td>\n",
       "      <td>654000</td>\n",
       "    </tr>\n",
       "    <tr>\n",
       "      <th>170</th>\n",
       "      <td>[완납폰][LGU+ 기기변경] 갤럭시 Z 플립3 5G 공시지원</td>\n",
       "      <td>None</td>\n",
       "      <td>SSG닷컴</td>\n",
       "      <td>551000</td>\n",
       "    </tr>\n",
       "    <tr>\n",
       "      <th>171</th>\n",
       "      <td>갤럭시 갤럭시 Z플립3 256GB 미개통 미개봉 새제품</td>\n",
       "      <td>256GB</td>\n",
       "      <td>옥션</td>\n",
       "      <td>1164900</td>\n",
       "    </tr>\n",
       "    <tr>\n",
       "      <th>172</th>\n",
       "      <td>[완납폰][SK기기변경] 갤럭시Z플립3 5G 공시약정</td>\n",
       "      <td>None</td>\n",
       "      <td>신세계몰</td>\n",
       "      <td>465500</td>\n",
       "    </tr>\n",
       "    <tr>\n",
       "      <th>173</th>\n",
       "      <td>삼성 갤럭시 Z 플립3 5G 공기계 미사용 새제품 SM-F711 256GB</td>\n",
       "      <td>256GB</td>\n",
       "      <td>주식회사 상상트레이드</td>\n",
       "      <td>1254000</td>\n",
       "    </tr>\n",
       "  </tbody>\n",
       "</table>\n",
       "<p>174 rows × 4 columns</p>\n",
       "</div>"
      ],
      "text/plain": [
       "                                           상품명    메모리          쇼핑몰       가격\n",
       "0                   삼성전자 갤럭시 Z 플립3 256GB (자급제)  256GB          네이버  1087200\n",
       "1                   삼성전자 갤럭시 Z 플립3 256GB (SKT)  256GB          네이버   187030\n",
       "2                    삼성전자 갤럭시 Z 플립3 256GB (KT)  256GB          네이버   388940\n",
       "3            삼성 갤럭시 Z플립3(F711) 자급제 풀박스 삼성A/S가능   None         인터파크   999000\n",
       "4                 삼성전자 갤럭시 Z 플립3 256GB (LG U+)  256GB          네이버   480400\n",
       "..                                         ...    ...          ...      ...\n",
       "169             갤럭시 LGT 갤럭시Z플립3 5G 기기변경 / 번호이동   None          G마켓   654000\n",
       "170         [완납폰][LGU+ 기기변경] 갤럭시 Z 플립3 5G 공시지원   None        SSG닷컴   551000\n",
       "171             갤럭시 갤럭시 Z플립3 256GB 미개통 미개봉 새제품  256GB           옥션  1164900\n",
       "172              [완납폰][SK기기변경] 갤럭시Z플립3 5G 공시약정   None         신세계몰   465500\n",
       "173  삼성 갤럭시 Z 플립3 5G 공기계 미사용 새제품 SM-F711 256GB  256GB  주식회사 상상트레이드  1254000\n",
       "\n",
       "[174 rows x 4 columns]"
      ]
     },
     "execution_count": 33,
     "metadata": {},
     "output_type": "execute_result"
    }
   ],
   "source": [
    "df = df[~((df[\"가격\"] > 3000000) | (df[\"가격\"] <= 50000))].reset_index(drop=True)\n",
    "df"
   ]
  },
  {
   "cell_type": "code",
   "execution_count": 34,
   "id": "d9a81339",
   "metadata": {},
   "outputs": [
    {
     "data": {
      "text/plain": [
       "'900,898'"
      ]
     },
     "execution_count": 34,
     "metadata": {},
     "output_type": "execute_result"
    }
   ],
   "source": [
    "format(int(df[\"가격\"].mean()),\",\")"
   ]
  },
  {
   "cell_type": "markdown",
   "id": "874771bf",
   "metadata": {},
   "source": [
    "z플립의 가격이 89만원으로 측정됐다."
   ]
  },
  {
   "cell_type": "code",
   "execution_count": 35,
   "id": "b4d8a766",
   "metadata": {},
   "outputs": [
    {
     "data": {
      "text/plain": [
       "<seaborn.axisgrid.FacetGrid at 0x208d3015f10>"
      ]
     },
     "execution_count": 35,
     "metadata": {},
     "output_type": "execute_result"
    },
    {
     "data": {
      "image/png": "[encoded data removed]",
      "text/plain": [
       "<Figure size 360x360 with 1 Axes>"
      ]
     },
     "metadata": {
      "needs_background": "light"
     },
     "output_type": "display_data"
    }
   ],
   "source": [
    "# 다시 히스토그램을 그려보면 다음과 같다.\n",
    "sns.displot(df[\"가격\"])"
   ]
  },
  {
   "cell_type": "markdown",
   "id": "8bb8fff6",
   "metadata": {},
   "source": [
    "봉오리가 두개인것을 알 수 있다. > 즉 데이터 안에 두가지 특성이 존재한다는 뜻이다.\n",
    "\n",
    "아마 통신자 VS 자급제 가격에 따라 휴대폰 가격 차이가 발생한것으로 추정된다.\n",
    "\n",
    "그러면 통신사 정보를 추출해야한다."
   ]
  },
  {
   "cell_type": "code",
   "execution_count": 31,
   "id": "d925ea96",
   "metadata": {},
   "outputs": [
    {
     "data": {
      "text/plain": [
       "'삼성전자 갤럭시 Z 플립3 256GB (자급제)'"
      ]
     },
     "execution_count": 31,
     "metadata": {},
     "output_type": "execute_result"
    }
   ],
   "source": [
    "\"삼성전자 갤럭시 Z 플립3 256GB (자급제)\".upper()"
   ]
  },
  {
   "cell_type": "code",
   "execution_count": 32,
   "id": "4ae631ce",
   "metadata": {},
   "outputs": [
    {
     "data": {
      "text/plain": [
       "True"
      ]
     },
     "execution_count": 32,
     "metadata": {},
     "output_type": "execute_result"
    }
   ],
   "source": [
    "\"자급제\" in \"삼성전자 갤럭시 Z 플립3 256GB (자급제)\".upper()"
   ]
  },
  {
   "cell_type": "code",
   "execution_count": 36,
   "id": "8d0fe1f7",
   "metadata": {},
   "outputs": [],
   "source": [
    "def getCompany(x):\n",
    "    x = x.upper()\n",
    "#     print(x)\n",
    "    if \"자급제\" in x or\"자급재\" in x:\n",
    "        content = \"자급제\"\n",
    "    elif \"SKT\" in x or \"SK\" in x: \n",
    "        content = \"SKT\"\n",
    "    elif \"KT\" in x:\n",
    "        content = \"KT\"\n",
    "    elif \"U+\" in x:\n",
    "        content = \"U+\"\n",
    "    else:\n",
    "        content = None\n",
    "    return content"
   ]
  },
  {
   "cell_type": "code",
   "execution_count": 38,
   "id": "1aedfaac",
   "metadata": {},
   "outputs": [
    {
     "data": {
      "text/plain": [
       "0       자급제\n",
       "1       SKT\n",
       "2        KT\n",
       "3       자급제\n",
       "4        U+\n",
       "       ... \n",
       "169    None\n",
       "170      U+\n",
       "171    None\n",
       "172     SKT\n",
       "173    None\n",
       "Name: 통신사, Length: 174, dtype: object"
      ]
     },
     "execution_count": 38,
     "metadata": {},
     "output_type": "execute_result"
    }
   ],
   "source": [
    "df[\"통신사\"] = df[[\"상품명\"]].apply(lambda x: getCompany(x[0]),1)\n",
    "df[\"통신사\"]"
   ]
  },
  {
   "cell_type": "markdown",
   "id": "dd556d17",
   "metadata": {},
   "source": [
    "* 통신사 마다 가격대"
   ]
  },
  {
   "cell_type": "code",
   "execution_count": 39,
   "id": "9f1b1fdc",
   "metadata": {},
   "outputs": [
    {
     "data": {
      "text/plain": [
       "24"
      ]
     },
     "execution_count": 39,
     "metadata": {},
     "output_type": "execute_result"
    }
   ],
   "source": [
    "# 통신사 None 값정보 확인\n",
    "df[\"통신사\"].isnull().sum()"
   ]
  },
  {
   "cell_type": "code",
   "execution_count": 36,
   "id": "b59f0595",
   "metadata": {},
   "outputs": [
    {
     "data": {
      "text/html": [
       "<div>\n",
       "<style scoped>\n",
       "    .dataframe tbody tr th:only-of-type {\n",
       "        vertical-align: middle;\n",
       "    }\n",
       "\n",
       "    .dataframe tbody tr th {\n",
       "        vertical-align: top;\n",
       "    }\n",
       "\n",
       "    .dataframe thead th {\n",
       "        text-align: right;\n",
       "    }\n",
       "</style>\n",
       "<table border=\"1\" class=\"dataframe\">\n",
       "  <thead>\n",
       "    <tr style=\"text-align: right;\">\n",
       "      <th></th>\n",
       "      <th>상품명</th>\n",
       "      <th>메모리</th>\n",
       "      <th>쇼핑몰</th>\n",
       "      <th>가격</th>\n",
       "      <th>통신사</th>\n",
       "    </tr>\n",
       "  </thead>\n",
       "  <tbody>\n",
       "    <tr>\n",
       "      <th>6</th>\n",
       "      <td>삼성전자 갤럭시 Z 플립3 256GB 당일발송/사은품 증정</td>\n",
       "      <td>256GB</td>\n",
       "      <td>KT공식몰</td>\n",
       "      <td>679000</td>\n",
       "      <td>None</td>\n",
       "    </tr>\n",
       "    <tr>\n",
       "      <th>7</th>\n",
       "      <td>[현금완납] 삼성전자 갤럭시 Z플립3</td>\n",
       "      <td>None</td>\n",
       "      <td>특가폰</td>\n",
       "      <td>765000</td>\n",
       "      <td>None</td>\n",
       "    </tr>\n",
       "    <tr>\n",
       "      <th>8</th>\n",
       "      <td>삼성전자 갤럭시 Z플립3 256G 미개통 미개봉 새제품</td>\n",
       "      <td>None</td>\n",
       "      <td>롯데ON</td>\n",
       "      <td>1084680</td>\n",
       "      <td>None</td>\n",
       "    </tr>\n",
       "    <tr>\n",
       "      <th>10</th>\n",
       "      <td>[갤럭시] 갤럭시 Z플립3 256G 미개통 미개봉 새제품</td>\n",
       "      <td>None</td>\n",
       "      <td>위메프</td>\n",
       "      <td>1159000</td>\n",
       "      <td>None</td>\n",
       "    </tr>\n",
       "    <tr>\n",
       "      <th>20</th>\n",
       "      <td>삼성전자 갤럭시 Z플립3 256GB 미개통 미개봉 새제품</td>\n",
       "      <td>256GB</td>\n",
       "      <td>롯데ON</td>\n",
       "      <td>1060060</td>\n",
       "      <td>None</td>\n",
       "    </tr>\n",
       "    <tr>\n",
       "      <th>24</th>\n",
       "      <td>갤럭시 Z플립3 256G 미개통 미개봉 새제품</td>\n",
       "      <td>None</td>\n",
       "      <td>로또폰</td>\n",
       "      <td>1179000</td>\n",
       "      <td>None</td>\n",
       "    </tr>\n",
       "    <tr>\n",
       "      <th>25</th>\n",
       "      <td>삼성전자 갤럭시Z 플립3 5G SM-F711 확정기변 미개봉 정품</td>\n",
       "      <td>None</td>\n",
       "      <td>삼성스마트존</td>\n",
       "      <td>1090000</td>\n",
       "      <td>None</td>\n",
       "    </tr>\n",
       "    <tr>\n",
       "      <th>32</th>\n",
       "      <td>갤럭시 Z플립3 미사용 공기계 풀박스 SM-F711</td>\n",
       "      <td>None</td>\n",
       "      <td>싸다공기계</td>\n",
       "      <td>1254000</td>\n",
       "      <td>None</td>\n",
       "    </tr>\n",
       "    <tr>\n",
       "      <th>33</th>\n",
       "      <td>갤럭시 삼성 갤럭시 Z 플립3 5G 256GB SM-F711 라벤더 / JT</td>\n",
       "      <td>256GB</td>\n",
       "      <td>G마켓</td>\n",
       "      <td>1999900</td>\n",
       "      <td>None</td>\n",
       "    </tr>\n",
       "    <tr>\n",
       "      <th>35</th>\n",
       "      <td>갤럭시 Z플립3 256GB 미개통 미개봉 새제품</td>\n",
       "      <td>256GB</td>\n",
       "      <td>인터파크</td>\n",
       "      <td>1071710</td>\n",
       "      <td>None</td>\n",
       "    </tr>\n",
       "    <tr>\n",
       "      <th>48</th>\n",
       "      <td>[삼성]갤럭시 Z플립3 256GB 미개통 미개봉 새제품</td>\n",
       "      <td>256GB</td>\n",
       "      <td>11번가</td>\n",
       "      <td>1077540</td>\n",
       "      <td>None</td>\n",
       "    </tr>\n",
       "    <tr>\n",
       "      <th>59</th>\n",
       "      <td>삼성전자 갤럭시Z 플립3 5G 확정기변 SM-F711 미개봉 정품</td>\n",
       "      <td>None</td>\n",
       "      <td>메이크라이프</td>\n",
       "      <td>1090000</td>\n",
       "      <td>None</td>\n",
       "    </tr>\n",
       "    <tr>\n",
       "      <th>60</th>\n",
       "      <td>갤럭시 Z플립3 256GB 미개통 미개봉 새제품</td>\n",
       "      <td>256GB</td>\n",
       "      <td>SSG닷컴</td>\n",
       "      <td>1114900</td>\n",
       "      <td>None</td>\n",
       "    </tr>\n",
       "    <tr>\n",
       "      <th>65</th>\n",
       "      <td>삼성전자 갤럭시Z 플립3 5G SM-711 정품</td>\n",
       "      <td>None</td>\n",
       "      <td>전화국</td>\n",
       "      <td>1090000</td>\n",
       "      <td>None</td>\n",
       "    </tr>\n",
       "    <tr>\n",
       "      <th>83</th>\n",
       "      <td>갤럭시 Z플립3 256GB 미개통 미개봉 새제품</td>\n",
       "      <td>256GB</td>\n",
       "      <td>신세계몰</td>\n",
       "      <td>1164900</td>\n",
       "      <td>None</td>\n",
       "    </tr>\n",
       "    <tr>\n",
       "      <th>87</th>\n",
       "      <td>갤럭시 갤럭시 Z플립3 256G 미개통 미개봉 새제품</td>\n",
       "      <td>None</td>\n",
       "      <td>G마켓</td>\n",
       "      <td>1179000</td>\n",
       "      <td>None</td>\n",
       "    </tr>\n",
       "    <tr>\n",
       "      <th>111</th>\n",
       "      <td>[기타] [갤럭시 Z플립3 256GB 미개통 미개봉 새제품]</td>\n",
       "      <td>256GB</td>\n",
       "      <td>SSG닷컴</td>\n",
       "      <td>1164900</td>\n",
       "      <td>None</td>\n",
       "    </tr>\n",
       "    <tr>\n",
       "      <th>123</th>\n",
       "      <td>(무배) 삼성 갤럭시 Z 플립3 256GB 5G 폴더블 셀피 IPX8등급 방수 코스트코</td>\n",
       "      <td>256GB</td>\n",
       "      <td>주주박스</td>\n",
       "      <td>1356000</td>\n",
       "      <td>None</td>\n",
       "    </tr>\n",
       "    <tr>\n",
       "      <th>129</th>\n",
       "      <td>삼성 갤럭시 Z 플립3 5G 공기계 미사용 새제품 SM-F711 256GB</td>\n",
       "      <td>256GB</td>\n",
       "      <td>주식회사 상상트레이드</td>\n",
       "      <td>1254000</td>\n",
       "      <td>None</td>\n",
       "    </tr>\n",
       "    <tr>\n",
       "      <th>141</th>\n",
       "      <td>삼성 갤럭시 Z Flip3 박스미개봉 새제품공기계</td>\n",
       "      <td>None</td>\n",
       "      <td>G마켓</td>\n",
       "      <td>1235000</td>\n",
       "      <td>None</td>\n",
       "    </tr>\n",
       "    <tr>\n",
       "      <th>154</th>\n",
       "      <td>[갤럭시] 갤럭시 Z플립3 256GB 미개통 미개봉 새제품</td>\n",
       "      <td>256GB</td>\n",
       "      <td>위메프</td>\n",
       "      <td>1139000</td>\n",
       "      <td>None</td>\n",
       "    </tr>\n",
       "    <tr>\n",
       "      <th>159</th>\n",
       "      <td>삼성 갤럭시 Z Flip3 박스미개봉 새제품공기계</td>\n",
       "      <td>None</td>\n",
       "      <td>옥션</td>\n",
       "      <td>1237000</td>\n",
       "      <td>None</td>\n",
       "    </tr>\n",
       "    <tr>\n",
       "      <th>168</th>\n",
       "      <td>갤럭시 갤럭시 Z플립3 256GB 미개통 미개봉 새제품</td>\n",
       "      <td>256GB</td>\n",
       "      <td>옥션</td>\n",
       "      <td>1164900</td>\n",
       "      <td>None</td>\n",
       "    </tr>\n",
       "    <tr>\n",
       "      <th>169</th>\n",
       "      <td>갤럭시 갤럭시 Z플립3 256GB 미개통 미개봉 새제품</td>\n",
       "      <td>256GB</td>\n",
       "      <td>G마켓</td>\n",
       "      <td>1164900</td>\n",
       "      <td>None</td>\n",
       "    </tr>\n",
       "  </tbody>\n",
       "</table>\n",
       "</div>"
      ],
      "text/plain": [
       "                                                  상품명    메모리          쇼핑몰  \\\n",
       "6                    삼성전자 갤럭시 Z 플립3 256GB 당일발송/사은품 증정  256GB        KT공식몰   \n",
       "7                                [현금완납] 삼성전자 갤럭시 Z플립3   None          특가폰   \n",
       "8                      삼성전자 갤럭시 Z플립3 256G 미개통 미개봉 새제품   None         롯데ON   \n",
       "10                    [갤럭시] 갤럭시 Z플립3 256G 미개통 미개봉 새제품   None          위메프   \n",
       "20                    삼성전자 갤럭시 Z플립3 256GB 미개통 미개봉 새제품  256GB         롯데ON   \n",
       "24                          갤럭시 Z플립3 256G 미개통 미개봉 새제품   None          로또폰   \n",
       "25               삼성전자 갤럭시Z 플립3 5G SM-F711 확정기변 미개봉 정품   None       삼성스마트존   \n",
       "32                       갤럭시 Z플립3 미사용 공기계 풀박스 SM-F711   None        싸다공기계   \n",
       "33         갤럭시 삼성 갤럭시 Z 플립3 5G 256GB SM-F711 라벤더 / JT  256GB          G마켓   \n",
       "35                         갤럭시 Z플립3 256GB 미개통 미개봉 새제품  256GB         인터파크   \n",
       "48                     [삼성]갤럭시 Z플립3 256GB 미개통 미개봉 새제품  256GB         11번가   \n",
       "59               삼성전자 갤럭시Z 플립3 5G 확정기변 SM-F711 미개봉 정품   None       메이크라이프   \n",
       "60                         갤럭시 Z플립3 256GB 미개통 미개봉 새제품  256GB        SSG닷컴   \n",
       "65                         삼성전자 갤럭시Z 플립3 5G SM-711 정품   None          전화국   \n",
       "83                         갤럭시 Z플립3 256GB 미개통 미개봉 새제품  256GB         신세계몰   \n",
       "87                      갤럭시 갤럭시 Z플립3 256G 미개통 미개봉 새제품   None          G마켓   \n",
       "111                 [기타] [갤럭시 Z플립3 256GB 미개통 미개봉 새제품]  256GB        SSG닷컴   \n",
       "123  (무배) 삼성 갤럭시 Z 플립3 256GB 5G 폴더블 셀피 IPX8등급 방수 코스트코  256GB         주주박스   \n",
       "129         삼성 갤럭시 Z 플립3 5G 공기계 미사용 새제품 SM-F711 256GB  256GB  주식회사 상상트레이드   \n",
       "141                       삼성 갤럭시 Z Flip3 박스미개봉 새제품공기계   None          G마켓   \n",
       "154                  [갤럭시] 갤럭시 Z플립3 256GB 미개통 미개봉 새제품  256GB          위메프   \n",
       "159                       삼성 갤럭시 Z Flip3 박스미개봉 새제품공기계   None           옥션   \n",
       "168                    갤럭시 갤럭시 Z플립3 256GB 미개통 미개봉 새제품  256GB           옥션   \n",
       "169                    갤럭시 갤럭시 Z플립3 256GB 미개통 미개봉 새제품  256GB          G마켓   \n",
       "\n",
       "          가격   통신사  \n",
       "6     679000  None  \n",
       "7     765000  None  \n",
       "8    1084680  None  \n",
       "10   1159000  None  \n",
       "20   1060060  None  \n",
       "24   1179000  None  \n",
       "25   1090000  None  \n",
       "32   1254000  None  \n",
       "33   1999900  None  \n",
       "35   1071710  None  \n",
       "48   1077540  None  \n",
       "59   1090000  None  \n",
       "60   1114900  None  \n",
       "65   1090000  None  \n",
       "83   1164900  None  \n",
       "87   1179000  None  \n",
       "111  1164900  None  \n",
       "123  1356000  None  \n",
       "129  1254000  None  \n",
       "141  1235000  None  \n",
       "154  1139000  None  \n",
       "159  1237000  None  \n",
       "168  1164900  None  \n",
       "169  1164900  None  "
      ]
     },
     "execution_count": 36,
     "metadata": {},
     "output_type": "execute_result"
    }
   ],
   "source": [
    "df.loc[df[\"통신사\"].isnull()]"
   ]
  },
  {
   "cell_type": "code",
   "execution_count": 40,
   "id": "f7134a87",
   "metadata": {},
   "outputs": [],
   "source": [
    "df.loc[df[\"통신사\"].isnull(),\"통신사\"] = \"기타\""
   ]
  },
  {
   "cell_type": "code",
   "execution_count": 41,
   "id": "7fa92acb",
   "metadata": {},
   "outputs": [
    {
     "data": {
      "image/png": "[encoded data removed]",
      "text/plain": [
       "<Figure size 720x360 with 1 Axes>"
      ]
     },
     "metadata": {
      "needs_background": "light"
     },
     "output_type": "display_data"
    }
   ],
   "source": [
    "plt.figure(figsize=(10,5))\n",
    "plt.title(\"삼성 Z플립 3 통신사별 가격 분포\",fontsize=20)\n",
    "sns.boxplot(data=df,x=\"통신사\",y = \"가격\");\n",
    "plt.show()"
   ]
  },
  {
   "cell_type": "markdown",
   "id": "a3f86329",
   "metadata": {},
   "source": [
    "#### 확실히 통신사들이 싸고 자급제나 기타항목일수록 120만원대에 형성된것을 알수 있다."
   ]
  },
  {
   "cell_type": "markdown",
   "id": "b8bad176",
   "metadata": {},
   "source": [
    "어떤 통신사가 가장 싸게 팔까?\n",
    "위 그래프를 보았을때 U+가 가장 싸게 파는것을 알수 있다. 그 이유는 박스 플랏에 박스가 전체 데이터의 50%를 차지한다. 그 50% 자치하는 데이터의 분포의 중앙값이 40만원 후반대에 형성되고 있기 때문이다."
   ]
  },
  {
   "cell_type": "code",
   "execution_count": 42,
   "id": "c002c1f9",
   "metadata": {},
   "outputs": [],
   "source": [
    "df.loc[((df[\"통신사\"] ==\"자급제\") | (df[\"통신사\"] ==\"기타\")),\"그룹\"] = 1\n",
    "df.loc[~((df[\"통신사\"] ==\"자급제\") | (df[\"통신사\"] ==\"기타\")),\"그룹\"] = 2"
   ]
  },
  {
   "cell_type": "code",
   "execution_count": 43,
   "id": "57df4e34",
   "metadata": {},
   "outputs": [
    {
     "data": {
      "text/plain": [
       "'706,571'"
      ]
     },
     "execution_count": 43,
     "metadata": {},
     "output_type": "execute_result"
    }
   ],
   "source": [
    "format(int(df[df[\"그룹\"]==1][\"가격\"].mean() - df[df[\"그룹\"]==2][\"가격\"].mean()),\",\")"
   ]
  },
  {
   "cell_type": "markdown",
   "id": "ef4b631d",
   "metadata": {},
   "source": [
    "#### 분석결론. \n",
    "갤럭시 Z 플립 원가가 130만원인 상황이고 출시한지 약 두달이 지나는 시점에서 가격대 형성이 자급제는 120만원대에 구매할수 있고, 기타 항목에 가면 110만원 선에 구매 가능하다. 만약 통신사를 활용해 휴대폰을 구매한다면 U+를 통해 구매하는것이 싸게 구매가능하다. 하지만 통신사에서 구매한다면 자급제로 구매하는 것보다 약 697만원 정도 세이브를 할수 있다.\n",
    "\n",
    "전체 모집단에서 표본을 200개를 뽑은것인데 각 그룹마다 해당 분포가 정규분포와 유사하니, 중심극한정리를 이용하면 샘플 n이 많아질수록 모집단의 평균과 유사해진다. 그렇기에 샘플 n-1을 하여 각각의 모집단 그룹의 평균을 추정하면 다음과 같을 것이다."
   ]
  },
  {
   "cell_type": "code",
   "execution_count": 44,
   "id": "1f4bfd88",
   "metadata": {},
   "outputs": [
    {
     "name": "stdout",
     "output_type": "stream",
     "text": [
      "그룹 1의 모집단 추정 : 1,230,454원\n",
      "그룹 2의 모집단 추정 : 517,703원\n",
      "두 그룹의 가격 차이 : 712,751원\n"
     ]
    }
   ],
   "source": [
    "group1Mean = int(df[df[\"그룹\"]==1][\"가격\"].sum() / (df[df[\"그룹\"]==1][\"가격\"].shape[0]-1))\n",
    "group2Mean = int(df[df[\"그룹\"]==2][\"가격\"].sum() / (df[df[\"그룹\"]==2][\"가격\"].shape[0]-1))\n",
    "A = format(group1Mean,\",\")\n",
    "B = format(group2Mean,\",\")\n",
    "C = format(group1Mean - group2Mean,\",\")\n",
    "\n",
    "print(f\"그룹 1의 모집단 추정 : {A}원\")\n",
    "print(f\"그룹 2의 모집단 추정 : {B}원\")\n",
    "print(f\"두 그룹의 가격 차이 : {C}원\")"
   ]
  },
  {
   "cell_type": "markdown",
   "id": "5f5ff239",
   "metadata": {},
   "source": [
    "이전보다 약 12만원정도 차이가 발생했다."
   ]
  },
  {
   "cell_type": "code",
   "execution_count": null,
   "id": "0049d694",
   "metadata": {},
   "outputs": [],
   "source": []
  }
 ],
 "metadata": {
  "kernelspec": {
   "display_name": "Python 3 (ipykernel)",
   "language": "python",
   "name": "python3"
  },
  "language_info": {
   "codemirror_mode": {
    "name": "ipython",
    "version": 3
   },
   "file_extension": ".py",
   "mimetype": "text/x-python",
   "name": "python",
   "nbconvert_exporter": "python",
   "pygments_lexer": "ipython3",
   "version": "3.8.11"
  }
 },
 "nbformat": 4,
 "nbformat_minor": 5
}
